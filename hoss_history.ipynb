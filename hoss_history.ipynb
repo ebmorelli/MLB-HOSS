{
 "cells": [
  {
   "cell_type": "markdown",
   "id": "a57087fc",
   "metadata": {},
   "source": [
    "## HOSS Seasons, Historically"
   ]
  },
  {
   "cell_type": "code",
   "execution_count": 12,
   "id": "129e3572",
   "metadata": {},
   "outputs": [
    {
     "name": "stdout",
     "output_type": "stream",
     "text": [
      "               Name  Year     BMI_z     WAR_z     fbv_z      HOSS\n",
      "500     CC Sabathia  2008  3.001701  2.618425  1.098720  6.718846\n",
      "501     CC Sabathia  2008  3.001701  2.618425  1.098720  6.718846\n",
      "992     CC Sabathia  2009  2.979629  1.392577  1.231003  5.603209\n",
      "994      Jon Lester  2009  1.242283  1.164979  1.152460  3.559723\n",
      "1508    CC Sabathia  2010  3.131036  1.534397  1.080582  5.746015\n",
      "2022    CC Sabathia  2011  3.004935  1.691164  1.164858  5.860957\n",
      "7242  Corbin Burnes  2021  1.341053  2.352194  1.145215  4.838461\n",
      "9031   Tarik Skubal  2024  1.222170  2.314989  1.726238  5.263397\n",
      "9601   Tarik Skubal  2025  1.365200  2.563112  1.685411  5.613723\n",
      "9602    Paul Skenes  2025  1.384650  1.924056  2.047846  5.356552\n"
     ]
    }
   ],
   "source": [
    "import pandas as pd\n",
    "import glob\n",
    "import os\n",
    "\n",
    "# Get a list of all CSV files starting with 'pitcher_hoss_'\n",
    "csv_files = glob.glob(os.path.join(\"pitcher_data\", \"pitchers_hoss_*.csv\"))\n",
    "\n",
    "# Read each CSV into a DataFrame and store in a list\n",
    "dfs = []\n",
    "for file in csv_files:\n",
    "    year = file.split(\".\")[0].split(\"_\")[-1]\n",
    "    df = pd.read_csv(file)\n",
    "    df[\"Year\"] = year\n",
    "    dfs.append(df)\n",
    "\n",
    "# Concatenate all DataFrames into one\n",
    "hoss_df = pd.concat(dfs, ignore_index=True)\n",
    "\n",
    "print(hoss_df[hoss_df[\"HOSS_status\"]][[\"Name\", \"Year\", \"BMI_z\", \"WAR_z\", \"fbv_z\", \"HOSS\"]])\n"
   ]
  }
 ],
 "metadata": {
  "kernelspec": {
   "display_name": "env",
   "language": "python",
   "name": "python3"
  },
  "language_info": {
   "codemirror_mode": {
    "name": "ipython",
    "version": 3
   },
   "file_extension": ".py",
   "mimetype": "text/x-python",
   "name": "python",
   "nbconvert_exporter": "python",
   "pygments_lexer": "ipython3",
   "version": "3.11.3"
  }
 },
 "nbformat": 4,
 "nbformat_minor": 5
}
