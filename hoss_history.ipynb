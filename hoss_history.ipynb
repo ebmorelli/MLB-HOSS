{
 "cells": [
  {
   "cell_type": "markdown",
   "id": "a57087fc",
   "metadata": {},
   "source": [
    "## HOSS Seasons, Historically"
   ]
  },
  {
   "cell_type": "code",
   "execution_count": 28,
   "id": "129e3572",
   "metadata": {},
   "outputs": [
    {
     "name": "stdout",
     "output_type": "stream",
     "text": [
      "                  Name  Year     BMI_z     WAR_z     fbv_z      HOSS\n",
      "0        Bartolo Colon  2002  5.230216  0.773286  1.322794  7.326296\n",
      "1        Bartolo Colon  2002  5.230216  0.773286  1.322794  7.326296\n",
      "486      Bartolo Colon  2003  5.271585  0.950310  1.108852  7.330748\n",
      "955    Carlos Zambrano  2004  2.867997  1.022961  1.169241  5.060200\n",
      "1439     Bartolo Colon  2005  5.118539  0.716116  1.131298  6.965953\n",
      "1916       CC Sabathia  2006  3.112429  1.253179  1.357124  5.722731\n",
      "2414       CC Sabathia  2007  2.949180  2.197731  0.874771  6.021681\n",
      "2914       CC Sabathia  2008  3.001701  2.618425  1.055014  6.675141\n",
      "2915       CC Sabathia  2008  3.001701  2.618425  1.055014  6.675141\n",
      "3406       CC Sabathia  2009  2.979629  1.392577  1.273897  5.646103\n",
      "3409        Jon Lester  2009  1.242283  1.164979  1.076197  3.483460\n",
      "3922       CC Sabathia  2010  3.131036  1.534397  1.103633  5.769066\n",
      "3925        Jon Lester  2010  1.271949  1.155262  1.019477  3.446688\n",
      "4436       CC Sabathia  2011  3.004935  1.691164  1.175682  5.871781\n",
      "9656     Corbin Burnes  2021  1.341053  2.352194  1.196232  4.889479\n",
      "11445     Tarik Skubal  2024  1.222170  2.314989  1.734620  5.271779\n",
      "12015     Tarik Skubal  2025  1.355312  2.563112  1.705904  5.624327\n",
      "12016      Paul Skenes  2025  1.374630  1.924056  2.122723  5.421409\n"
     ]
    }
   ],
   "source": [
    "import pandas as pd\n",
    "import glob\n",
    "import os\n",
    "\n",
    "# Get a list of all CSV files starting with 'pitcher_hoss_'\n",
    "csv_files = glob.glob(os.path.join(\"pitcher_data\", \"pitchers_hoss_*.csv\"))\n",
    "\n",
    "# Read each CSV into a DataFrame and store in a list\n",
    "dfs = []\n",
    "for file in csv_files:\n",
    "    year = file.split(\".\")[0].split(\"_\")[-1]\n",
    "    df = pd.read_csv(file)\n",
    "    df[\"Year\"] = year\n",
    "    dfs.append(df)\n",
    "\n",
    "# Concatenate all DataFrames into one\n",
    "hoss_df = pd.concat(dfs, ignore_index=True)\n",
    "\n",
    "# hoss_df[\"HOSS_status\"] = hoss_df[\"HOSS_status\"] | (hoss_df[\"HOSS\"] > 6)\n",
    "\n",
    "print(hoss_df[hoss_df[\"HOSS_status\"]][[\"Name\", \"Year\", \"BMI_z\", \"WAR_z\", \"fbv_z\", \"HOSS\"]])\n"
   ]
  },
  {
   "cell_type": "markdown",
   "id": "5986fd5e",
   "metadata": {},
   "source": [
    "### HOSS Misses"
   ]
  },
  {
   "cell_type": "code",
   "execution_count": 29,
   "id": "ba860471",
   "metadata": {},
   "outputs": [
    {
     "name": "stdout",
     "output_type": "stream",
     "text": [
      "                   Name  Year      HOSS  HOSS_status\n",
      "486       Bartolo Colon  2003  7.330748         True\n",
      "0         Bartolo Colon  2002  7.326296         True\n",
      "1         Bartolo Colon  2002  7.326296         True\n",
      "1439      Bartolo Colon  2005  6.965953         True\n",
      "2914        CC Sabathia  2008  6.675141         True\n",
      "2915        CC Sabathia  2008  6.675141         True\n",
      "2414        CC Sabathia  2007  6.021681         True\n",
      "4436        CC Sabathia  2011  5.871781         True\n",
      "3922        CC Sabathia  2010  5.769066         True\n",
      "1916        CC Sabathia  2006  5.722731         True\n",
      "3406        CC Sabathia  2009  5.646103         True\n",
      "12015      Tarik Skubal  2025  5.624327         True\n",
      "954       Bartolo Colon  2004  5.515119        False\n",
      "5451      Bartolo Colon  2013  5.467276        False\n",
      "12016       Paul Skenes  2025  5.421409         True\n",
      "1440        CC Sabathia  2005  5.398208        False\n",
      "11445      Tarik Skubal  2024  5.271779         True\n",
      "3407   Justin Verlander  2009  5.204645        False\n",
      "8713         Lance Lynn  2019  5.072249        False\n",
      "955     Carlos Zambrano  2004  5.060200         True\n"
     ]
    }
   ],
   "source": [
    "pitchers_sorted = hoss_df.sort_values(by='HOSS', ascending=False)\n",
    "# print(pitchers_sorted[[\"Name\", \"Year\", \"BMI_z\", \"WAR_z\", \"fbv_z\", \"HOSS\", \"HOSS_status\"]].head(20))\n",
    "print(pitchers_sorted[[\"Name\", \"Year\", \"HOSS\", \"HOSS_status\"]].head(20))"
   ]
  }
 ],
 "metadata": {
  "kernelspec": {
   "display_name": "env",
   "language": "python",
   "name": "python3"
  },
  "language_info": {
   "codemirror_mode": {
    "name": "ipython",
    "version": 3
   },
   "file_extension": ".py",
   "mimetype": "text/x-python",
   "name": "python",
   "nbconvert_exporter": "python",
   "pygments_lexer": "ipython3",
   "version": "3.11.3"
  }
 },
 "nbformat": 4,
 "nbformat_minor": 5
}
