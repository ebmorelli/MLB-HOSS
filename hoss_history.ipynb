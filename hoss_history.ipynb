{
 "cells": [
  {
   "cell_type": "markdown",
   "id": "a57087fc",
   "metadata": {},
   "source": [
    "## HOSS Seasons, Historically"
   ]
  },
  {
   "cell_type": "code",
   "execution_count": 23,
   "id": "129e3572",
   "metadata": {},
   "outputs": [
    {
     "name": "stdout",
     "output_type": "stream",
     "text": [
      "                  Name  Year     BMI_z     WAR_z     fbv_z      HOSS\n",
      "457      Bartolo Colon  2003  5.271585  0.950310  1.108852  7.330748\n",
      "0        Bartolo Colon  2002  5.230216  0.773286  1.322794  7.326296\n",
      "1355     Bartolo Colon  2005  5.118539  0.716116  1.131298  6.965953\n",
      "2749       CC Sabathia  2008  3.001701  2.618425  1.055014  6.675141\n",
      "2273       CC Sabathia  2007  2.949180  2.197731  0.874771  6.021681\n",
      "4196       CC Sabathia  2011  3.004935  1.691164  1.175682  5.871781\n",
      "3710       CC Sabathia  2010  3.131036  1.534397  1.103633  5.769066\n",
      "1809       CC Sabathia  2006  3.112429  1.253179  1.357124  5.722731\n",
      "3220       CC Sabathia  2009  2.979629  1.392577  1.273897  5.646103\n",
      "11325     Tarik Skubal  2025  1.355312  2.563112  1.705904  5.624327\n",
      "895      Bartolo Colon  2004  5.278457 -0.832775  1.069437  5.515119\n",
      "5166     Bartolo Colon  2013  5.432001  0.649656 -0.614381  5.467276\n",
      "11326      Paul Skenes  2025  1.374630  1.924056  2.122723  5.421409\n",
      "1356       CC Sabathia  2005  3.182375  0.398677  1.817156  5.398208\n",
      "10797     Tarik Skubal  2024  1.222170  2.314989  1.734620  5.271779\n",
      "8229        Lance Lynn  2019  2.380710  2.079900  0.611638  5.072249\n",
      "896    Carlos Zambrano  2004  2.867997  1.022961  1.169241  5.060200\n",
      "4197     Bartolo Colon  2011  5.107370 -0.384155  0.289205  5.012421\n",
      "9127     Corbin Burnes  2021  1.341053  2.352194  1.196232  4.889479\n",
      "6645    Jose Fernandez  2016  1.015333  2.449606  1.384410  4.849350\n",
      "3223        Jon Lester  2009  1.242283  1.164979  1.076197  3.483460\n",
      "3715        Jon Lester  2010  1.271949  1.155262  1.019477  3.446688\n"
     ]
    }
   ],
   "source": [
    "import pandas as pd\n",
    "import glob\n",
    "import os\n",
    "\n",
    "# Get a list of all CSV files starting with 'pitcher_hoss_'\n",
    "csv_files = glob.glob(os.path.join(\"pitcher_data\", \"pitchers_hoss_*.csv\"))\n",
    "\n",
    "# Read each CSV into a DataFrame and store in a list\n",
    "dfs = []\n",
    "for file in csv_files:\n",
    "    year = file.split(\".\")[0].split(\"_\")[-1]\n",
    "    df = pd.read_csv(file)\n",
    "    df[\"Year\"] = year\n",
    "    dfs.append(df)\n",
    "\n",
    "# Concatenate all DataFrames into one\n",
    "hoss_df = pd.concat(dfs, ignore_index=True)\n",
    "\n",
    "pitchers_sorted = hoss_df.sort_values(by='HOSS', ascending=False)\n",
    "\n",
    "print(pitchers_sorted[pitchers_sorted[\"HOSS_status\"]][[\"Name\", \"Year\", \"BMI_z\", \"WAR_z\", \"fbv_z\", \"HOSS\"]])"
   ]
  },
  {
   "cell_type": "code",
   "execution_count": 24,
   "id": "98db203e",
   "metadata": {},
   "outputs": [
    {
     "name": "stdout",
     "output_type": "stream",
     "text": [
      "                  Name  Year        BMI  WAR   FBv      HOSS\n",
      "457      Bartolo Colon  2003  39.745090  4.7  92.3  7.330748\n",
      "0        Bartolo Colon  2002  39.745090  4.4  92.9  7.326296\n",
      "1355     Bartolo Colon  2005  39.745090  4.1  92.7  6.965953\n",
      "2749       CC Sabathia  2008  34.664694  7.3  93.7  6.675141\n",
      "2273       CC Sabathia  2007  34.664694  6.4  92.9  6.021681\n",
      "4196       CC Sabathia  2011  34.664694  5.8  93.8  5.871781\n",
      "3710       CC Sabathia  2010  34.664694  5.5  93.5  5.769066\n",
      "1809       CC Sabathia  2006  34.664694  5.0  93.7  5.722731\n",
      "3220       CC Sabathia  2009  34.664694  5.8  94.2  5.646103\n",
      "11325     Tarik Skubal  2025  29.994667  5.5  97.4  5.624327\n",
      "895      Bartolo Colon  2004  39.745090  1.4  92.6  5.515119\n",
      "5166     Bartolo Colon  2013  39.745090  4.0  89.9  5.467276\n",
      "11326      Paul Skenes  2025  30.042735  4.7  98.2  5.421409\n",
      "1356       CC Sabathia  2005  34.664694  3.6  94.7  5.398208\n",
      "10797     Tarik Skubal  2024  29.994667  5.9  96.8  5.271779\n",
      "8229        Lance Lynn  2019  33.199528  6.8  94.2  5.072249\n",
      "896    Carlos Zambrano  2004  33.470395  4.7  92.9  5.060200\n",
      "4197     Bartolo Colon  2011  39.745090  2.3  91.7  5.012421\n",
      "9127     Corbin Burnes  2021  30.619556  7.5  96.9  4.889479\n",
      "6645    Jose Fernandez  2016  29.994667  6.3  95.2  4.849350\n",
      "3223        Jon Lester  2009  30.305921  5.4  93.7  3.483460\n",
      "3715        Jon Lester  2010  30.305921  4.9  93.3  3.446688\n"
     ]
    }
   ],
   "source": [
    "print(pitchers_sorted[pitchers_sorted[\"HOSS_status\"]][[\"Name\", \"Year\", \"BMI\", \"WAR\", \"FBv\", \"HOSS\"]])"
   ]
  },
  {
   "cell_type": "markdown",
   "id": "5986fd5e",
   "metadata": {},
   "source": [
    "### HOSS Misses"
   ]
  },
  {
   "cell_type": "code",
   "execution_count": 25,
   "id": "ba860471",
   "metadata": {},
   "outputs": [
    {
     "name": "stdout",
     "output_type": "stream",
     "text": [
      "                  Name  Year     BMI_z     WAR_z     fbv_z      HOSS\n",
      "3221  Justin Verlander  2009  0.505225  2.871962  1.827457  5.204645\n",
      "6644  Noah Syndergaard  2016  0.184171  2.241568  2.453150  4.878889\n",
      "9701      Carlos Rodon  2022  2.088931  1.855761  0.916449  4.861142\n",
      "4670  Justin Verlander  2012  0.422727  2.956456  1.423214  4.802397\n",
      "458    Carlos Zambrano  2003  2.898199  0.950310  0.921498  4.770007\n",
      "1          CC Sabathia  2002  3.326336  0.294384  1.144746  4.765466\n",
      "897        CC Sabathia  2004  3.326794 -0.045493  1.468654  4.749955\n",
      "3711  Justin Verlander  2010  0.483243  2.292666  1.903115  4.679024\n",
      "1357   Carlos Zambrano  2005  2.727221  0.779604  1.165591  4.672416\n",
      "4671       CC Sabathia  2012  2.981434  1.033862  0.533073  4.548369\n",
      "459         Mark Prior  2003  0.553310  2.728713  1.233755  4.515778\n",
      "1358     Johan Santana  2005  0.824598  2.620754  1.028419  4.473771\n",
      "460        CC Sabathia  2003  3.349939  0.261897  0.827821  4.439657\n",
      "2       Curt Schilling  2002 -0.555289  3.706563  1.263444  4.414718\n",
      "5651     Bartolo Colon  2014  5.290359  0.071106 -0.998330  4.363135\n",
      "5167       Matt Harvey  2013 -0.290246  2.515235  2.040345  4.265334\n",
      "898      Randy Johnson  2004 -0.952988  3.778448  1.435386  4.260845\n",
      "4198  Justin Verlander  2011  0.435878  2.106227  1.682241  4.224346\n",
      "1810        Brad Penny  2006  2.410422  0.355652  1.427668  4.193742\n",
      "1811     Johan Santana  2006  0.703417  2.343032  1.145493  4.191943\n"
     ]
    }
   ],
   "source": [
    "print(pitchers_sorted[pitchers_sorted[\"HOSS_status\"] == False][[\"Name\", \"Year\", \"BMI_z\", \"WAR_z\", \"fbv_z\", \"HOSS\"]].head(20))"
   ]
  },
  {
   "cell_type": "code",
   "execution_count": 26,
   "id": "d7a51da1",
   "metadata": {},
   "outputs": [
    {
     "name": "stdout",
     "output_type": "stream",
     "text": [
      "                  Name  Year        BMI  WAR   FBv      HOSS\n",
      "3221  Justin Verlander  2009  28.456738  8.4  95.6  5.204645\n",
      "6644  Noah Syndergaard  2016  27.962853  6.0  98.0  4.878889\n",
      "9701      Carlos Rodon  2022  32.736486  6.2  95.6  4.861142\n",
      "4670  Justin Verlander  2012  28.456738  6.9  94.3  4.802397\n",
      "458    Carlos Zambrano  2003  33.470395  4.7  91.7  4.770007\n",
      "1          CC Sabathia  2002  34.664694  3.6  92.3  4.765466\n",
      "897        CC Sabathia  2004  34.664694  2.8  93.8  4.749955\n",
      "3711  Justin Verlander  2010  28.456738  6.7  95.4  4.679024\n",
      "1357   Carlos Zambrano  2005  33.470395  4.2  92.8  4.672416\n",
      "4671       CC Sabathia  2012  34.664694  4.1  92.3  4.548369\n",
      "459         Mark Prior  2003  27.271041  7.8  92.7  4.515778\n",
      "1358     Johan Santana  2005  28.478009  7.1  92.4  4.473771\n",
      "460        CC Sabathia  2003  34.664694  3.5  91.4  4.439657\n",
      "2       Curt Schilling  2002  24.306797  9.3  92.7  4.414718\n",
      "5651     Bartolo Colon  2014  39.745090  2.8  88.7  4.363135\n",
      "5167       Matt Harvey  2013  26.776316  6.9  95.8  4.265334\n",
      "898      Randy Johnson  2004  23.523944  9.6  93.7  4.260845\n",
      "4198  Justin Verlander  2011  28.456738  6.5  95.0  4.224346\n",
      "1810        Brad Penny  2006  32.861842  3.6  93.9  4.193742\n",
      "1811     Johan Santana  2006  28.478009  6.7  93.1  4.191943\n"
     ]
    }
   ],
   "source": [
    "print(pitchers_sorted[pitchers_sorted[\"HOSS_status\"] == False][[\"Name\", \"Year\", \"BMI\", \"WAR\", \"FBv\", \"HOSS\"]].head(20))"
   ]
  },
  {
   "cell_type": "markdown",
   "id": "bda16926",
   "metadata": {},
   "source": [
    "### Pipsqueak :("
   ]
  },
  {
   "cell_type": "code",
   "execution_count": 29,
   "id": "c47d194c",
   "metadata": {},
   "outputs": [
    {
     "name": "stdout",
     "output_type": "stream",
     "text": [
      "                Name  Year        BMI  WAR   FBv      HOSS\n",
      "3297     Jamie Moyer  2009  23.053627  0.6  81.4 -7.001794\n",
      "6717    Jered Weaver  2016  23.654863  0.1  83.0 -6.700215\n",
      "2836   Tim Wakefield  2008  26.959459  1.1  72.9 -6.430352\n",
      "4289  Bronson Arroyo  2011  23.120889 -1.6  87.0 -6.163739\n",
      "983      Jamie Moyer  2004  23.053627 -0.2  81.6 -5.456239\n"
     ]
    }
   ],
   "source": [
    "pitchers_sorted = hoss_df.sort_values(by='HOSS', ascending=True)\n",
    "print(pitchers_sorted[[\"Name\", \"Year\", \"BMI\", \"WAR\", \"FBv\", \"HOSS\"]].head(5))"
   ]
  },
  {
   "cell_type": "markdown",
   "id": "73f3cf72",
   "metadata": {},
   "source": [
    "### BMI"
   ]
  },
  {
   "cell_type": "code",
   "execution_count": 30,
   "id": "e141661f",
   "metadata": {},
   "outputs": [
    {
     "data": {
      "text/html": [
       "<div>\n",
       "<style scoped>\n",
       "    .dataframe tbody tr th:only-of-type {\n",
       "        vertical-align: middle;\n",
       "    }\n",
       "\n",
       "    .dataframe tbody tr th {\n",
       "        vertical-align: top;\n",
       "    }\n",
       "\n",
       "    .dataframe thead th {\n",
       "        text-align: right;\n",
       "    }\n",
       "</style>\n",
       "<table border=\"1\" class=\"dataframe\">\n",
       "  <thead>\n",
       "    <tr style=\"text-align: right;\">\n",
       "      <th></th>\n",
       "      <th>Name</th>\n",
       "      <th>Year</th>\n",
       "      <th>BMI</th>\n",
       "      <th>WAR</th>\n",
       "      <th>FBv</th>\n",
       "      <th>HOSS</th>\n",
       "    </tr>\n",
       "  </thead>\n",
       "  <tbody>\n",
       "    <tr>\n",
       "      <th>0</th>\n",
       "      <td>Bartolo Colon</td>\n",
       "      <td>2002</td>\n",
       "      <td>39.74509</td>\n",
       "      <td>4.4</td>\n",
       "      <td>92.9</td>\n",
       "      <td>7.326296</td>\n",
       "    </tr>\n",
       "    <tr>\n",
       "      <th>3544</th>\n",
       "      <td>Bartolo Colon</td>\n",
       "      <td>2009</td>\n",
       "      <td>39.74509</td>\n",
       "      <td>NaN</td>\n",
       "      <td>NaN</td>\n",
       "      <td>NaN</td>\n",
       "    </tr>\n",
       "    <tr>\n",
       "      <th>2537</th>\n",
       "      <td>Bartolo Colon</td>\n",
       "      <td>2007</td>\n",
       "      <td>39.74509</td>\n",
       "      <td>NaN</td>\n",
       "      <td>NaN</td>\n",
       "      <td>NaN</td>\n",
       "    </tr>\n",
       "    <tr>\n",
       "      <th>5018</th>\n",
       "      <td>Bartolo Colon</td>\n",
       "      <td>2012</td>\n",
       "      <td>39.74509</td>\n",
       "      <td>NaN</td>\n",
       "      <td>NaN</td>\n",
       "      <td>NaN</td>\n",
       "    </tr>\n",
       "    <tr>\n",
       "      <th>5166</th>\n",
       "      <td>Bartolo Colon</td>\n",
       "      <td>2013</td>\n",
       "      <td>39.74509</td>\n",
       "      <td>4.0</td>\n",
       "      <td>89.9</td>\n",
       "      <td>5.467276</td>\n",
       "    </tr>\n",
       "    <tr>\n",
       "      <th>457</th>\n",
       "      <td>Bartolo Colon</td>\n",
       "      <td>2003</td>\n",
       "      <td>39.74509</td>\n",
       "      <td>4.7</td>\n",
       "      <td>92.3</td>\n",
       "      <td>7.330748</td>\n",
       "    </tr>\n",
       "    <tr>\n",
       "      <th>895</th>\n",
       "      <td>Bartolo Colon</td>\n",
       "      <td>2004</td>\n",
       "      <td>39.74509</td>\n",
       "      <td>1.4</td>\n",
       "      <td>92.6</td>\n",
       "      <td>5.515119</td>\n",
       "    </tr>\n",
       "    <tr>\n",
       "      <th>7352</th>\n",
       "      <td>Bartolo Colon</td>\n",
       "      <td>2017</td>\n",
       "      <td>39.74509</td>\n",
       "      <td>NaN</td>\n",
       "      <td>NaN</td>\n",
       "      <td>NaN</td>\n",
       "    </tr>\n",
       "    <tr>\n",
       "      <th>6128</th>\n",
       "      <td>Bartolo Colon</td>\n",
       "      <td>2015</td>\n",
       "      <td>39.74509</td>\n",
       "      <td>2.5</td>\n",
       "      <td>88.3</td>\n",
       "      <td>3.365395</td>\n",
       "    </tr>\n",
       "    <tr>\n",
       "      <th>5651</th>\n",
       "      <td>Bartolo Colon</td>\n",
       "      <td>2014</td>\n",
       "      <td>39.74509</td>\n",
       "      <td>2.8</td>\n",
       "      <td>88.7</td>\n",
       "      <td>4.363135</td>\n",
       "    </tr>\n",
       "  </tbody>\n",
       "</table>\n",
       "</div>"
      ],
      "text/plain": [
       "               Name  Year       BMI  WAR   FBv      HOSS\n",
       "0     Bartolo Colon  2002  39.74509  4.4  92.9  7.326296\n",
       "3544  Bartolo Colon  2009  39.74509  NaN   NaN       NaN\n",
       "2537  Bartolo Colon  2007  39.74509  NaN   NaN       NaN\n",
       "5018  Bartolo Colon  2012  39.74509  NaN   NaN       NaN\n",
       "5166  Bartolo Colon  2013  39.74509  4.0  89.9  5.467276\n",
       "457   Bartolo Colon  2003  39.74509  4.7  92.3  7.330748\n",
       "895   Bartolo Colon  2004  39.74509  1.4  92.6  5.515119\n",
       "7352  Bartolo Colon  2017  39.74509  NaN   NaN       NaN\n",
       "6128  Bartolo Colon  2015  39.74509  2.5  88.3  3.365395\n",
       "5651  Bartolo Colon  2014  39.74509  2.8  88.7  4.363135"
      ]
     },
     "execution_count": 30,
     "metadata": {},
     "output_type": "execute_result"
    }
   ],
   "source": [
    "pitchers_sorted = hoss_df.sort_values(by='BMI', ascending=False)\n",
    "pitchers_sorted[[\"Name\", \"Year\", \"BMI\", \"WAR\", \"FBv\", \"HOSS\"]].head(10)"
   ]
  }
 ],
 "metadata": {
  "kernelspec": {
   "display_name": "env",
   "language": "python",
   "name": "python3"
  },
  "language_info": {
   "codemirror_mode": {
    "name": "ipython",
    "version": 3
   },
   "file_extension": ".py",
   "mimetype": "text/x-python",
   "name": "python",
   "nbconvert_exporter": "python",
   "pygments_lexer": "ipython3",
   "version": "3.11.3"
  }
 },
 "nbformat": 4,
 "nbformat_minor": 5
}
