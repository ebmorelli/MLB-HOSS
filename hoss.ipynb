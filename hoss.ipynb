{
 "cells": [
  {
   "cell_type": "code",
   "execution_count": 69,
   "id": "73f138d8",
   "metadata": {},
   "outputs": [],
   "source": [
    "import pandas as pd\n",
    "import numpy as np\n",
    "import pybaseball"
   ]
  },
  {
   "cell_type": "markdown",
   "id": "67adcc86",
   "metadata": {},
   "source": [
    "### Read in BRef data & Calculate Height and Weight Percentiles"
   ]
  },
  {
   "cell_type": "code",
   "execution_count": 70,
   "id": "ab9daab1",
   "metadata": {},
   "outputs": [
    {
     "name": "stdout",
     "output_type": "stream",
     "text": [
      "     Unnamed: 0                Name      Ht   Wt  height_inches  \\\n",
      "360         360        Paul Gervase  6' 10\"  230             82   \n",
      "416         416         Bailey Ober   6' 9\"  260             81   \n",
      "340         340       Tyler Glasnow   6' 8\"  225             80   \n",
      "372         372          Eury Pérez   6' 8\"  220             80   \n",
      "648         648           Joe Boyle   6' 8\"  250             80   \n",
      "..          ...                 ...     ...  ...            ...   \n",
      "343         343  Yoshinobu Yamamoto  5' 10\"  176             70   \n",
      "677         677      Danny Coulombe  5' 10\"  190             70   \n",
      "171         171            Sam Moll   5' 9\"  190             69   \n",
      "63           63         Rico Garcia   5' 9\"  201             69   \n",
      "555         555         Yuki Matsui   5' 8\"  165             68   \n",
      "\n",
      "     height_percentile  weight_percentile  height_zscore  weight_zscore  \n",
      "360               0.26               0.81       3.355894       0.819287  \n",
      "416               1.00               0.98       2.890285       2.177342  \n",
      "340               0.99               0.74       2.424677       0.592944  \n",
      "372               0.99               0.65       2.424677       0.366602  \n",
      "648               0.99               0.96       2.424677       1.724657  \n",
      "..                 ...                ...            ...            ...  \n",
      "343               0.01               0.06      -2.231406      -1.625213  \n",
      "677               0.01               0.16      -2.231406      -0.991454  \n",
      "171               0.05               0.16      -2.697014      -0.991454  \n",
      "63                0.05               0.31      -2.697014      -0.493500  \n",
      "555               0.05               0.02      -3.162622      -2.123166  \n",
      "\n",
      "[742 rows x 9 columns]\n"
     ]
    }
   ],
   "source": [
    "pitchers = pd.read_csv(\"pitchers_br.csv\")\n",
    "\n",
    "def height_to_inches(height_str):\n",
    "    feet, inches = height_str.split(\"'\")\n",
    "    inches = inches.replace('\"', '').strip()\n",
    "    return int(feet) * 12 + int(inches)\n",
    "\n",
    "pitchers['height_inches'] = pitchers['Ht'].apply(height_to_inches)\n",
    "# pitchers[\"Wt\"].apply(int)\n",
    "\n",
    "pitchers['height_percentile'] = pitchers['Ht'].rank(pct=True).round(2)\n",
    "pitchers['weight_percentile'] = pitchers['Wt'].rank(pct=True).round(2)\n",
    "\n",
    "pitchers[\"height_zscore\"] = (pitchers[\"height_inches\"] - pitchers[\"height_inches\"].mean()) / pitchers[\"height_inches\"].std()\n",
    "pitchers[\"weight_zscore\"] = (pitchers[\"Wt\"] - pitchers[\"Wt\"].mean()) / pitchers[\"Wt\"].std()\n",
    "\n",
    "\n",
    "pitchers_sorted = pitchers.sort_values(by='height_zscore', ascending=False)\n",
    "print(pitchers_sorted)\n"
   ]
  },
  {
   "cell_type": "markdown",
   "id": "d0728cc1",
   "metadata": {},
   "source": [
    "### Calculate Size Score"
   ]
  },
  {
   "cell_type": "code",
   "execution_count": 71,
   "id": "cc5f717e",
   "metadata": {},
   "outputs": [],
   "source": [
    "pitchers[\"size_score\"] = 10 * pitchers[\"height_percentile\"] + 90 * pitchers[\"weight_percentile\"]\n",
    "# pitchers_sorted = pitchers.sort_values(by='size_score', ascending=False)\n",
    "# print(pitchers_sorted)"
   ]
  },
  {
   "cell_type": "code",
   "execution_count": 72,
   "id": "cdaf1d35",
   "metadata": {},
   "outputs": [],
   "source": [
    "# Alternative Calculation of Size score: z-scores\n",
    "pitchers[\"size_score\"] = 10 * pitchers[\"height_zscore\"] + 90 * pitchers[\"weight_zscore\"]\n",
    "# pitchers_sorted = pitchers.sort_values(by='size_score', ascending=False)\n",
    "# print(pitchers_sorted)"
   ]
  },
  {
   "cell_type": "markdown",
   "id": "0a6dd00a",
   "metadata": {},
   "source": [
    "### Big-Body Score as an alternative to Size Score\n",
    "\n",
    "Capture a score somewhere between BMI and Corpulence Index (using Imperial units - percentiles will be calculated anyway)\n",
    "Big-Body Score = $\\frac{Weight (lbs)}{(Height (in)^{2.5})}$"
   ]
  },
  {
   "cell_type": "code",
   "execution_count": 92,
   "id": "bb991960",
   "metadata": {},
   "outputs": [
    {
     "name": "stdout",
     "output_type": "stream",
     "text": [
      "                 Name  big_body_score\n",
      "164    Tony Santillan        3.517482\n",
      "348  Brusdar Graterol        3.445045\n",
      "43        Joe Jiménez        3.124514\n",
      "146     Dan Altavilla        2.756605\n",
      "467      David Bednar        2.656721\n",
      "..                ...             ...\n",
      "527      Jean Cabrera       -2.594183\n",
      "3        Juan Morillo       -2.598771\n",
      "483     Michael Arias       -2.622646\n",
      "252    Keider Montero       -2.861545\n",
      "453  Huascar Brazobán       -2.868251\n",
      "\n",
      "[742 rows x 2 columns]\n"
     ]
    }
   ],
   "source": [
    "pitchers[\"big_body_raw\"] = pitchers[\"Wt\"] / (pitchers[\"height_inches\"])**2.5\n",
    "# pitchers['big_body_score'] = pitchers['big_body_raw'].rank(pct=True).round(4) * 100\n",
    "pitchers[\"big_body_score\"] = (pitchers[\"big_body_raw\"] - pitchers[\"big_body_raw\"].mean()) / pitchers[\"big_body_raw\"].std() # + 0.5 * pitchers[\"height_zscore\"]\n",
    "pitchers_sorted = pitchers.sort_values(by='big_body_score', ascending=False)\n",
    "print(pitchers_sorted[[\"Name\", \"big_body_score\"]])"
   ]
  },
  {
   "cell_type": "markdown",
   "id": "5d28f061",
   "metadata": {},
   "source": [
    "### Calculate Dominance Score from stats\n",
    "This year's stats from FanGraphs"
   ]
  },
  {
   "cell_type": "code",
   "execution_count": 74,
   "id": "81e13f7b",
   "metadata": {},
   "outputs": [],
   "source": [
    "pitching_stats = pd.read_csv(\"pitchers_fg.csv\")"
   ]
  },
  {
   "cell_type": "code",
   "execution_count": 75,
   "id": "34dc0266",
   "metadata": {},
   "outputs": [],
   "source": [
    "# set a 10-game qualification filter\n",
    "pitching_stats = pitching_stats[pitching_stats[\"G\"] > 10]\n",
    "\n",
    "# determine starters/relievers\n",
    "pitching_stats[\"Pos\"] = np.where(\n",
    "    pitching_stats[\"GS\"] > 0.5 * pitching_stats[\"G\"], \n",
    "    \"SP\", \n",
    "    \"RP\"\n",
    ")"
   ]
  },
  {
   "cell_type": "code",
   "execution_count": 76,
   "id": "f1d2a1df",
   "metadata": {},
   "outputs": [
    {
     "data": {
      "text/plain": [
       "Index(['Unnamed: 0', 'Name', 'WAR', 'G', 'GS', 'SO', 'K/9', 'FIP', 'K%',\n",
       "       'FB% 2', 'vFA (sc)', 'vSI (sc)', 'vFC (sc)', 'Zone%', 'SwStr%',\n",
       "       'Stuff+', 'Pitching+', 'Pos'],\n",
       "      dtype='object')"
      ]
     },
     "execution_count": 76,
     "metadata": {},
     "output_type": "execute_result"
    }
   ],
   "source": [
    "pitching_stats.columns\n",
    "\n"
   ]
  },
  {
   "cell_type": "code",
   "execution_count": 96,
   "id": "2b854243",
   "metadata": {},
   "outputs": [
    {
     "name": "stdout",
     "output_type": "stream",
     "text": [
      "   Unnamed: 0             Name  WAR   G  GS   SO    K/9   FIP     K%  FB% 2  \\\n",
      "0          43     Tarik Skubal  5.5  24  24  190  11.23  2.26  0.327  0.532   \n",
      "2          26      Paul Skenes  4.7  25  25  166  10.09  2.51  0.286  0.479   \n",
      "1          51  Garrett Crochet  4.9  24  24  188  11.11  2.54  0.308  0.528   \n",
      "4          45     Hunter Brown  4.0  24  24  164  10.32  2.92  0.294  0.605   \n",
      "5          72     Zack Wheeler  4.0  24  24  195  11.73  2.98  0.333  0.581   \n",
      "\n",
      "   ...  Pos      SO_z     SO9_z  fb_velo     fbv_z  dominance_score_raw  \\\n",
      "0  ...   SP  2.615515  1.917598     97.5  1.248272             5.831922   \n",
      "2  ...   SP  1.939721  1.214898     98.2  1.542198             5.329021   \n",
      "1  ...   SP  2.559199  1.843630     96.3  0.744399             4.730429   \n",
      "4  ...   SP  1.883405  1.356671     96.8  0.954346             4.043945   \n",
      "5  ...   SP  2.756306  2.225800     96.1  0.660420             3.750020   \n",
      "\n",
      "   dominance_score  Stuff+_z  Pitching+_z     WAR_z  \n",
      "0         3.942683  1.718354     1.894330  4.583650  \n",
      "2         3.602696  0.706587     1.686794  3.786823  \n",
      "1         3.198016  2.185324     1.755973  3.986029  \n",
      "4         2.733918  0.940072     0.856650  3.089599  \n",
      "5         2.535209  1.095728     1.479258  3.089599  \n",
      "\n",
      "[5 rows x 27 columns]\n"
     ]
    }
   ],
   "source": [
    "# pitching_stats_sp = pd.DataFrame(pitching_stats[pitching_stats[\"Pos\"] == \"SP\"])\n",
    "# pitching_stats_sp['SO_percentile'] = pitching_stats_sp['SO'].rank(pct=True).round(2)\n",
    "# pitching_stats_sp['SO9_percentile'] = pitching_stats_sp['K/9'].rank(pct=True).round(2)\n",
    "# pitching_stats_rp = pd.DataFrame(pitching_stats[pitching_stats[\"Pos\"] == \"RP\"])\n",
    "# pitching_stats_rp['SO_percentile'] = pitching_stats_rp['SO'].rank(pct=True).round(2)\n",
    "# pitching_stats_rp['SO9_percentile'] = pitching_stats_rp['K/9'].rank(pct=True).round(2)\n",
    "\n",
    "import pandas as pd\n",
    "\n",
    "# SP pitchers\n",
    "pitching_stats_sp = pd.DataFrame(pitching_stats[pitching_stats[\"Pos\"] == \"SP\"])\n",
    "pitching_stats_sp['SO_z'] = (pitching_stats_sp['SO'] - pitching_stats_sp['SO'].mean()) / pitching_stats_sp['SO'].std()\n",
    "pitching_stats_sp['SO9_z'] = (pitching_stats_sp['K/9'] - pitching_stats_sp['K/9'].mean()) / pitching_stats_sp['K/9'].std()\n",
    "\n",
    "# RP pitchers\n",
    "pitching_stats_rp = pd.DataFrame(pitching_stats[pitching_stats[\"Pos\"] == \"RP\"])\n",
    "pitching_stats_rp['SO_z'] = (pitching_stats_rp['SO'] - pitching_stats_rp['SO'].mean()) / pitching_stats_rp['SO'].std()\n",
    "pitching_stats_rp['SO9_z'] = (pitching_stats_rp['K/9'] - pitching_stats_rp['K/9'].mean()) / pitching_stats_rp['K/9'].std()\n",
    "\n",
    "\n",
    "pitching_stats = pd.concat([pitching_stats_sp, pitching_stats_rp], ignore_index=True)\n",
    "\n",
    "pitching_stats[\"fb_velo\"] = pitching_stats[[\"vFA (sc)\", \"vSI (sc)\", \"vFC (sc)\",]].max(axis=1, skipna=True)\n",
    "pitching_stats['fbv_z'] = (pitching_stats['fb_velo'] - pitching_stats['fb_velo'].mean()) / pitching_stats['fb_velo'].std()\n",
    "\n",
    "pitching_stats[\"Stuff+_z\"] = (pitching_stats[\"Stuff+\"] - pitching_stats[\"Stuff+\"].mean()) / pitching_stats[\"Stuff+\"].std()\n",
    "pitching_stats[\"Pitching+_z\"] = (pitching_stats[\"Pitching+\"] - pitching_stats[\"Pitching+\"].mean()) / pitching_stats[\"Pitching+\"].std()\n",
    "pitching_stats[\"WAR_z\"] = (pitching_stats[\"WAR\"] - pitching_stats[\"WAR\"].mean()) / pitching_stats[\"WAR\"].std()\n",
    "\n",
    "\n",
    "\n",
    "# pitching_stats[\"dominance_score_raw\"] = 10 * pitching_stats[\"SO_percentile\"] + 80 * pitching_stats[\"SO9_percentile\"] + 50 * pitching_stats[\"fbv_percentile\"] + pitching_stats[\"Stuff+\"]\n",
    "# pitching_stats[\"dominance_score\"] = pitching_stats['dominance_score_raw'].rank(pct=True).round(4) * 100\n",
    "# pitching_stats[\"dominance_score_raw\"] = 10 * pitching_stats[\"SO9_z\"] + 20 * pitching_stats[\"fbv_z\"] + 30 * (pitching_stats[\"Stuff+\"] / 100)\n",
    "pitching_stats[\"dominance_score_raw\"] = pitching_stats[\"WAR_z\"] + pitching_stats[\"fbv_z\"]\n",
    "pitching_stats[\"dominance_score\"] = (pitching_stats['dominance_score_raw'] - pitching_stats['dominance_score_raw'].mean()) / pitching_stats['dominance_score_raw'].std()\n",
    "\n",
    "\n",
    "print(pitching_stats.sort_values(by='dominance_score', ascending=False).head(5))"
   ]
  },
  {
   "cell_type": "markdown",
   "id": "9246217e",
   "metadata": {},
   "source": [
    "### Calculate HOSS = Size Score + Dominance Score"
   ]
  },
  {
   "cell_type": "code",
   "execution_count": 97,
   "id": "7bc81bbe",
   "metadata": {},
   "outputs": [
    {
     "name": "stdout",
     "output_type": "stream",
     "text": [
      "                Name  big_body_score  dominance_score      HOSS\n",
      "0       Tarik Skubal        1.307036         3.942683  5.249719\n",
      "2        Paul Skenes        1.096627         3.602696  4.699322\n",
      "7     Framber Valdez        2.474933         1.985292  4.460225\n",
      "165     David Bednar        2.656721         1.202989  3.859711\n",
      "244   Tony Santillan        3.517482         0.330909  3.848391\n",
      "22    Drew Rasmussen        2.131172         1.613616  3.744788\n",
      "1    Garrett Crochet        0.428628         3.198016  3.626645\n",
      "4       Hunter Brown        0.693413         2.733918  3.427331\n",
      "189  Graham Ashcraft        2.115739         0.837917  2.953656\n",
      "164      Bryan Abreu        1.605623         1.327100  2.932723\n"
     ]
    }
   ],
   "source": [
    "pitchers_hoss = pd.merge(\n",
    "    pitching_stats, \n",
    "    pitchers, \n",
    "    on=\"Name\",\n",
    "    how=\"left\"\n",
    ")\n",
    "\n",
    "# pitchers[\"HOSS\"] = pitchers[\"size_score\"] + pitchers[\"dominance_score\"]\n",
    "pitchers_hoss[\"HOSS\"] = pitchers_hoss[\"big_body_score\"] + pitchers_hoss[\"dominance_score\"]\n",
    "\n",
    "pitchers_sorted = pitchers_hoss.sort_values(by='HOSS', ascending=False)\n",
    "print(pitchers_sorted[[\"Name\", \"big_body_score\", \"dominance_score\", \"HOSS\"]].head(10))"
   ]
  }
 ],
 "metadata": {
  "kernelspec": {
   "display_name": "env",
   "language": "python",
   "name": "python3"
  },
  "language_info": {
   "codemirror_mode": {
    "name": "ipython",
    "version": 3
   },
   "file_extension": ".py",
   "mimetype": "text/x-python",
   "name": "python",
   "nbconvert_exporter": "python",
   "pygments_lexer": "ipython3",
   "version": "3.11.3"
  }
 },
 "nbformat": 4,
 "nbformat_minor": 5
}
