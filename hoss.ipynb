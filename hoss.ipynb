{
 "cells": [
  {
   "cell_type": "code",
   "execution_count": 11,
   "id": "73f138d8",
   "metadata": {},
   "outputs": [],
   "source": [
    "import pandas as pd\n",
    "import numpy as np"
   ]
  },
  {
   "cell_type": "markdown",
   "id": "67adcc86",
   "metadata": {},
   "source": [
    "### Read in Data & Calculate Height and Weight Percentiles"
   ]
  },
  {
   "cell_type": "code",
   "execution_count": 3,
   "id": "ab9daab1",
   "metadata": {},
   "outputs": [
    {
     "name": "stdout",
     "output_type": "stream",
     "text": [
      "     Unnamed: 0               Name      Ht   Wt  height_inches  \\\n",
      "419         419        Bailey Ober   6' 9\"  260             81   \n",
      "130         130        Luke Little   6' 8\"  220             80   \n",
      "70           70     Félix Bautista   6' 8\"  285             80   \n",
      "641         641     Chris Roycroft   6' 8\"  230             80   \n",
      "77           77        Tyler Wells   6' 8\"  260             80   \n",
      "..          ...                ...     ...  ...            ...   \n",
      "112         112      Shota Imanaga  5' 10\"  175             70   \n",
      "681         681     Danny Coulombe  5' 10\"  190             70   \n",
      "124         124         Eli Morgan  5' 10\"  190             70   \n",
      "716         716     Lazaro Estrada  5' 10\"  180             70   \n",
      "35           35  Daysbel Hernández  5' 10\"  220             70   \n",
      "\n",
      "     height_percentile  weight_percentile  \n",
      "419               1.00               0.98  \n",
      "130               0.99               0.65  \n",
      "70                0.99               1.00  \n",
      "641               0.99               0.81  \n",
      "77                0.99               0.98  \n",
      "..                 ...                ...  \n",
      "112               0.01               0.05  \n",
      "681               0.01               0.15  \n",
      "124               0.01               0.15  \n",
      "716               0.01               0.08  \n",
      "35                0.01               0.65  \n",
      "\n",
      "[746 rows x 7 columns]\n"
     ]
    }
   ],
   "source": [
    "pitchers = pd.read_csv(\"pitchers.csv\")\n",
    "\n",
    "def height_to_inches(height_str):\n",
    "    feet, inches = height_str.split(\"'\")\n",
    "    inches = inches.replace('\"', '').strip()\n",
    "    return int(feet) * 12 + int(inches)\n",
    "\n",
    "pitchers['height_inches'] = pitchers['Ht'].apply(height_to_inches)\n",
    "\n",
    "pitchers['height_percentile'] = pitchers['Ht'].rank(pct=True).round(2)\n",
    "pitchers['weight_percentile'] = pitchers['Wt'].rank(pct=True).round(2)\n",
    "\n",
    "pitchers_sorted = pitchers.sort_values(by='height_percentile', ascending=False)\n",
    "print(pitchers_sorted)\n",
    "\n",
    "# pitchers_sorted = pitchers.sort_values(by='weight_percentile', ascending=False)\n",
    "# print(pitchers_sorted)\n"
   ]
  },
  {
   "cell_type": "markdown",
   "id": "d0728cc1",
   "metadata": {},
   "source": [
    "### Calculate Size Score"
   ]
  },
  {
   "cell_type": "code",
   "execution_count": 5,
   "id": "cc5f717e",
   "metadata": {},
   "outputs": [
    {
     "name": "stdout",
     "output_type": "stream",
     "text": [
      "     Unnamed: 0             Name      Ht   Wt  height_inches  \\\n",
      "70           70   Félix Bautista   6' 8\"  285             80   \n",
      "297         297   Carlos Estévez   6' 6\"  277             78   \n",
      "711         711      Alek Manoah   6' 6\"  285             78   \n",
      "558         558     Johan Oviedo   6' 6\"  275             78   \n",
      "419         419      Bailey Ober   6' 9\"  260             81   \n",
      "..          ...              ...     ...  ...            ...   \n",
      "603         603     Blas Castano  5' 10\"  162             70   \n",
      "694         694   Winston Santos   6' 0\"  160             72   \n",
      "110         110  Daniel Palencia  5' 11\"  160             71   \n",
      "530         530     Jean Cabrera   6' 0\"  145             72   \n",
      "367         367  Ronny Henriquez  5' 10\"  155             70   \n",
      "\n",
      "     height_percentile  weight_percentile  size_score  \n",
      "70                0.99               1.00        99.9  \n",
      "297               0.93               1.00        99.3  \n",
      "711               0.93               1.00        99.3  \n",
      "558               0.93               0.99        98.4  \n",
      "419               1.00               0.98        98.2  \n",
      "..                 ...                ...         ...  \n",
      "603               0.01               0.02         1.9  \n",
      "694               0.10               0.01         1.9  \n",
      "110               0.03               0.01         1.2  \n",
      "530               0.10               0.00         1.0  \n",
      "367               0.01               0.01         1.0  \n",
      "\n",
      "[746 rows x 8 columns]\n"
     ]
    }
   ],
   "source": [
    "pitchers[\"size_score\"] = 10 * pitchers[\"height_percentile\"] + 90 * pitchers[\"weight_percentile\"]\n",
    "pitchers_sorted = pitchers.sort_values(by='size_score', ascending=False)\n",
    "print(pitchers_sorted)"
   ]
  },
  {
   "cell_type": "markdown",
   "id": "5d28f061",
   "metadata": {},
   "source": [
    "### Calculate Dominance Score from stats\n",
    "This year's stats from Baseball Reference"
   ]
  },
  {
   "cell_type": "code",
   "execution_count": 50,
   "id": "34dc0266",
   "metadata": {},
   "outputs": [],
   "source": [
    "from pybaseball import pitching_stats_bref\n",
    "\n",
    "# get all of this season's batting data so far\n",
    "pitching_stats = pitching_stats_bref()\n",
    "\n",
    "# set some qualification parameters\n",
    "pitching_stats = pitching_stats[pitching_stats[\"IP\"] > 30]\n",
    "pitching_stats = pitching_stats[pitching_stats[\"G\"] > 10]\n",
    "pitching_stats = pitching_stats[[\"Name\", \"mlbID\", \"G\", \"GS\", \"SO\", \"SO9\", \"WHIP\"]]\n",
    "\n",
    "# calculate SO9 percentile by position\n",
    "pitching_stats[\"Pos\"] = np.where(\n",
    "    pitching_stats[\"GS\"] > 0.5 * pitching_stats[\"G\"], \n",
    "    \"SP\", \n",
    "    \"RP\"\n",
    ")"
   ]
  },
  {
   "cell_type": "code",
   "execution_count": 41,
   "id": "f1d2a1df",
   "metadata": {},
   "outputs": [
    {
     "data": {
      "text/plain": [
       "Index(['Name', 'mlbID', 'G', 'GS', 'SO', 'SO9'], dtype='object')"
      ]
     },
     "execution_count": 41,
     "metadata": {},
     "output_type": "execute_result"
    }
   ],
   "source": [
    "pitching_stats.columns\n",
    "\n"
   ]
  },
  {
   "cell_type": "code",
   "execution_count": 58,
   "id": "2b854243",
   "metadata": {},
   "outputs": [
    {
     "name": "stdout",
     "output_type": "stream",
     "text": [
      "                  Name   mlbID   G  GS   SO   SO9   WHIP Pos  SO_percentile  \\\n",
      "237         Josh Hader  623352  48   0   76  13.0  0.854  RP           0.97   \n",
      "136       Tarik Skubal  669373  24  24  190  11.2  0.873  SP           0.99   \n",
      "209  Edwin D\\xc3\\xadaz  621242  46   0   68  13.3  0.913  RP           0.92   \n",
      "152       Zack Wheeler  554430  24  24  195  11.7  0.935  SP           1.00   \n",
      "198    Aroldis Chapman  547973  51   0   66  12.7  0.729  RP           0.90   \n",
      "\n",
      "     SO9_percentile  WHIP_percentile  dominance_score_raw  dominance_score  \n",
      "237            0.97             0.98                136.3           100.00  \n",
      "136            0.97             0.97                136.0            99.73  \n",
      "209            0.98             0.96                135.6            99.46  \n",
      "152            0.98             0.94                135.4            99.18  \n",
      "198            0.95             1.00                135.0            98.91  \n"
     ]
    }
   ],
   "source": [
    "pitching_stats_sp = pd.DataFrame(pitching_stats[pitching_stats[\"Pos\"] == \"SP\"])\n",
    "pitching_stats_sp['SO_percentile'] = pitching_stats_sp['SO'].rank(pct=True).round(2)\n",
    "pitching_stats_sp['SO9_percentile'] = pitching_stats_sp['SO9'].rank(pct=True).round(2)\n",
    "pitching_stats_rp = pd.DataFrame(pitching_stats[pitching_stats[\"Pos\"] == \"RP\"])\n",
    "pitching_stats_rp['SO_percentile'] = pitching_stats_rp['SO'].rank(pct=True).round(2)\n",
    "pitching_stats_rp['SO9_percentile'] = pitching_stats_rp['SO9'].rank(pct=True).round(2)\n",
    "\n",
    "pitching_stats = pd.concat([pitching_stats_sp, pitching_stats_rp], ignore_index=True)\n",
    "\n",
    "pitching_stats['WHIP_percentile'] = pitching_stats['WHIP'].rank(pct=True).round(2)\n",
    "pitching_stats['WHIP_percentile'] = 1 - pitching_stats['WHIP_percentile']\n",
    "\n",
    "pitching_stats[\"dominance_score_raw\"] = 10 * pitching_stats[\"SO_percentile\"] + 80 * pitching_stats[\"SO9_percentile\"] + 50 * pitching_stats[\"WHIP_percentile\"]\n",
    "pitching_stats[\"dominance_score\"] = pitching_stats['dominance_score_raw'].rank(pct=True).round(4) * 100\n",
    "\n",
    "print(pitching_stats.sort_values(by='dominance_score', ascending=False).head(5))"
   ]
  },
  {
   "cell_type": "markdown",
   "id": "9246217e",
   "metadata": {},
   "source": [
    "### Calculate HOSS = Size Score + Dominance Score"
   ]
  },
  {
   "cell_type": "code",
   "execution_count": 63,
   "id": "7bc81bbe",
   "metadata": {},
   "outputs": [
    {
     "name": "stdout",
     "output_type": "stream",
     "text": [
      "                Name  size_score  dominance_score    HOSS\n",
      "136      Paul Skenes        97.5            96.46  193.96\n",
      "31   Garrett Crochet        93.0            95.10  188.10\n",
      "56     Hunter Greene        91.3            95.64  186.94\n",
      "137     Tarik Skubal        86.5            99.73  186.23\n",
      "287    Trevor Megill        95.4            90.46  185.86\n",
      "199  Aroldis Chapman        84.6            98.91  183.51\n",
      "179     David Bednar        88.4            94.82  183.22\n",
      "205    Fernando Cruz        83.8            98.09  181.89\n",
      "253     Jeff Hoffman        85.9            95.91  181.81\n",
      "140   Michael Soroka        94.9            84.20  179.10\n"
     ]
    }
   ],
   "source": [
    "pitchers = pd.merge(\n",
    "    pitching_stats, \n",
    "    pitchers, \n",
    "    on=\"Name\",\n",
    "    how=\"left\"\n",
    ")\n",
    "\n",
    "pitchers[\"HOSS\"] = pitchers[\"size_score\"] + pitchers[\"dominance_score\"]\n",
    "\n",
    "pitchers_sorted = pitchers.sort_values(by='HOSS', ascending=False)\n",
    "print(pitchers_sorted[[\"Name\", \"size_score\", \"dominance_score\", \"HOSS\"]].head(10))"
   ]
  }
 ],
 "metadata": {
  "kernelspec": {
   "display_name": "env",
   "language": "python",
   "name": "python3"
  },
  "language_info": {
   "codemirror_mode": {
    "name": "ipython",
    "version": 3
   },
   "file_extension": ".py",
   "mimetype": "text/x-python",
   "name": "python",
   "nbconvert_exporter": "python",
   "pygments_lexer": "ipython3",
   "version": "3.11.3"
  }
 },
 "nbformat": 4,
 "nbformat_minor": 5
}
