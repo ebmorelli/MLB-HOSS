{
 "cells": [
  {
   "cell_type": "code",
   "execution_count": 195,
   "id": "73f138d8",
   "metadata": {},
   "outputs": [],
   "source": [
    "import pandas as pd\n",
    "import numpy as np"
   ]
  },
  {
   "cell_type": "markdown",
   "id": "67adcc86",
   "metadata": {},
   "source": [
    "### Read in BRef data & Calculate Height and Weight Z-Scores"
   ]
  },
  {
   "cell_type": "code",
   "execution_count": 196,
   "id": "ab9daab1",
   "metadata": {},
   "outputs": [],
   "source": [
    "pitchers = pd.read_csv(\"pitchers_br.csv\")\n",
    "\n",
    "def height_to_inches(height_str):\n",
    "    feet, inches = height_str.split(\"'\")\n",
    "    inches = inches.replace('\"', '').strip()\n",
    "    return int(feet) * 12 + int(inches)\n",
    "\n",
    "pitchers['height_inches'] = pitchers['Ht'].apply(height_to_inches)\n",
    "# pitchers[\"Wt\"].apply(int)\n",
    "\n",
    "pitchers['height_percentile'] = pitchers['Ht'].rank(pct=True).round(2)\n",
    "pitchers['weight_percentile'] = pitchers['Wt'].rank(pct=True).round(2)\n",
    "\n",
    "pitchers[\"height_zscore\"] = (pitchers[\"height_inches\"] - pitchers[\"height_inches\"].mean()) / pitchers[\"height_inches\"].std()\n",
    "pitchers[\"weight_zscore\"] = (pitchers[\"Wt\"] - pitchers[\"Wt\"].mean()) / pitchers[\"Wt\"].std()\n",
    "\n",
    "\n",
    "# pitchers_sorted = pitchers.sort_values(by='height_zscore', ascending=False)\n",
    "# print(pitchers_sorted)\n"
   ]
  },
  {
   "cell_type": "markdown",
   "id": "d0728cc1",
   "metadata": {},
   "source": [
    "### Calculate Size Score"
   ]
  },
  {
   "cell_type": "code",
   "execution_count": 197,
   "id": "cc5f717e",
   "metadata": {},
   "outputs": [],
   "source": [
    "pitchers[\"size_score\"] = 10 * pitchers[\"height_percentile\"] + 90 * pitchers[\"weight_percentile\"]\n",
    "# pitchers_sorted = pitchers.sort_values(by='size_score', ascending=False)\n",
    "# print(pitchers_sorted)"
   ]
  },
  {
   "cell_type": "code",
   "execution_count": 198,
   "id": "cdaf1d35",
   "metadata": {},
   "outputs": [],
   "source": [
    "# Alternative Calculation of Size score: z-scores\n",
    "pitchers[\"size_score\"] = 0.1 * pitchers[\"height_zscore\"] + 0.9 * pitchers[\"weight_zscore\"]\n",
    "# pitchers_sorted = pitchers.sort_values(by='size_score', ascending=False)\n",
    "# print(pitchers_sorted)"
   ]
  },
  {
   "cell_type": "markdown",
   "id": "0a6dd00a",
   "metadata": {},
   "source": [
    "### Big-Body Score (BMI) as an alternative to Size Score\n",
    "\n",
    "BMI = $\\frac{Weight (lbs)}{(Height (in)^{2.5})}$"
   ]
  },
  {
   "cell_type": "code",
   "execution_count": 199,
   "id": "bb991960",
   "metadata": {},
   "outputs": [
    {
     "name": "stdout",
     "output_type": "stream",
     "text": [
      "                 Name  big_body_score\n",
      "164    Tony Santillan        3.640947\n",
      "348  Brusdar Graterol        3.373899\n",
      "43        Joe Jiménez        3.236370\n",
      "602         Matt Gage        2.629504\n",
      "276      Ronel Blanco        2.629504\n",
      "..                ...             ...\n",
      "483     Michael Arias       -2.680574\n",
      "3        Juan Morillo       -2.764940\n",
      "527      Jean Cabrera       -2.815345\n",
      "453  Huascar Brazobán       -2.933435\n",
      "252    Keider Montero       -3.031846\n",
      "\n",
      "[742 rows x 2 columns]\n"
     ]
    }
   ],
   "source": [
    "pitchers[\"big_body_raw\"] = pitchers[\"Wt\"] / (pitchers[\"height_inches\"])**2\n",
    "# pitchers['big_body_score'] = pitchers['big_body_raw'].rank(pct=True).round(4) * 100\n",
    "pitchers[\"big_body_score\"] = (pitchers[\"big_body_raw\"] - pitchers[\"big_body_raw\"].mean()) / pitchers[\"big_body_raw\"].std() # + 0.5 * pitchers[\"height_zscore\"]\n",
    "pitchers_sorted = pitchers.sort_values(by='big_body_score', ascending=False)\n",
    "print(pitchers_sorted[[\"Name\", \"big_body_score\"]])"
   ]
  },
  {
   "cell_type": "markdown",
   "id": "5d28f061",
   "metadata": {},
   "source": [
    "### Calculate Dominance Score from stats\n",
    "This year's stats from FanGraphs"
   ]
  },
  {
   "cell_type": "code",
   "execution_count": 200,
   "id": "81e13f7b",
   "metadata": {},
   "outputs": [],
   "source": [
    "pitching_stats = pd.read_csv(\"pitchers_fg.csv\")"
   ]
  },
  {
   "cell_type": "code",
   "execution_count": 201,
   "id": "34dc0266",
   "metadata": {},
   "outputs": [],
   "source": [
    "# set a 10-game qualification filter\n",
    "pitching_stats = pitching_stats[pitching_stats[\"G\"] > 10]\n",
    "\n",
    "# determine starters/relievers\n",
    "pitching_stats[\"Pos\"] = np.where(\n",
    "    pitching_stats[\"GS\"] > 0.5 * pitching_stats[\"G\"], \n",
    "    \"SP\", \n",
    "    \"RP\"\n",
    ")"
   ]
  },
  {
   "cell_type": "code",
   "execution_count": 202,
   "id": "2b854243",
   "metadata": {},
   "outputs": [],
   "source": [
    "# pitching_stats_sp = pd.DataFrame(pitching_stats[pitching_stats[\"Pos\"] == \"SP\"])\n",
    "# pitching_stats_sp['SO_percentile'] = pitching_stats_sp['SO'].rank(pct=True).round(2)\n",
    "# pitching_stats_sp['SO9_percentile'] = pitching_stats_sp['K/9'].rank(pct=True).round(2)\n",
    "# pitching_stats_rp = pd.DataFrame(pitching_stats[pitching_stats[\"Pos\"] == \"RP\"])\n",
    "# pitching_stats_rp['SO_percentile'] = pitching_stats_rp['SO'].rank(pct=True).round(2)\n",
    "# pitching_stats_rp['SO9_percentile'] = pitching_stats_rp['K/9'].rank(pct=True).round(2)\n",
    "\n",
    "import pandas as pd\n",
    "\n",
    "# SP pitchers\n",
    "pitching_stats_sp = pd.DataFrame(pitching_stats[pitching_stats[\"Pos\"] == \"SP\"])\n",
    "pitching_stats_sp['SO_z'] = (pitching_stats_sp['SO'] - pitching_stats_sp['SO'].mean()) / pitching_stats_sp['SO'].std()\n",
    "pitching_stats_sp['SO9_z'] = (pitching_stats_sp['K/9'] - pitching_stats_sp['K/9'].mean()) / pitching_stats_sp['K/9'].std()\n",
    "\n",
    "# RP pitchers\n",
    "# pitching_stats_rp = pd.DataFrame(pitching_stats[pitching_stats[\"Pos\"] == \"RP\"])\n",
    "# pitching_stats_rp['SO_z'] = (pitching_stats_rp['SO'] - pitching_stats_rp['SO'].mean()) / pitching_stats_rp['SO'].std()\n",
    "# pitching_stats_rp['SO9_z'] = (pitching_stats_rp['K/9'] - pitching_stats_rp['K/9'].mean()) / pitching_stats_rp['K/9'].std()\n",
    "\n",
    "\n",
    "# pitching_stats = pd.concat([pitching_stats_sp, pitching_stats_rp], ignore_index=True)\n",
    "\n",
    "pitching_stats = pitching_stats_sp\n",
    "\n",
    "pitching_stats[\"fb_velo\"] = pitching_stats[[\"vFA (sc)\", \"vSI (sc)\", \"vFC (sc)\",]].max(axis=1, skipna=True)\n",
    "pitching_stats['fbv_z'] = (pitching_stats['fb_velo'] - pitching_stats['fb_velo'].mean()) / pitching_stats['fb_velo'].std()\n",
    "\n",
    "pitching_stats[\"Stuff+_z\"] = (pitching_stats[\"Stuff+\"] - pitching_stats[\"Stuff+\"].mean()) / pitching_stats[\"Stuff+\"].std()\n",
    "pitching_stats[\"Pitching+_z\"] = (pitching_stats[\"Pitching+\"] - pitching_stats[\"Pitching+\"].mean()) / pitching_stats[\"Pitching+\"].std()\n",
    "pitching_stats[\"WAR_z\"] = (pitching_stats[\"WAR\"] - pitching_stats[\"WAR\"].mean()) / pitching_stats[\"WAR\"].std()\n",
    "\n",
    "\n",
    "\n",
    "# pitching_stats[\"dominance_score_raw\"] = 10 * pitching_stats[\"SO_percentile\"] + 80 * pitching_stats[\"SO9_percentile\"] + 50 * pitching_stats[\"fbv_percentile\"] + pitching_stats[\"Stuff+\"]\n",
    "# pitching_stats[\"dominance_score\"] = pitching_stats['dominance_score_raw'].rank(pct=True).round(4) * 100\n",
    "# pitching_stats[\"dominance_score_raw\"] = 10 * pitching_stats[\"SO9_z\"] + 20 * pitching_stats[\"fbv_z\"] + 30 * (pitching_stats[\"Stuff+\"] / 100)\n",
    "pitching_stats[\"dominance_score_raw\"] = pitching_stats[\"WAR_z\"] + pitching_stats[\"fbv_z\"]\n",
    "pitching_stats[\"dominance_score\"] = (pitching_stats['dominance_score_raw'] - pitching_stats['dominance_score_raw'].mean()) / pitching_stats['dominance_score_raw'].std()\n",
    "\n",
    "\n",
    "# print(pitching_stats.sort_values(by='dominance_score', ascending=False).head(5))"
   ]
  },
  {
   "cell_type": "markdown",
   "id": "9246217e",
   "metadata": {},
   "source": [
    "### Calculate HOSS = Size Score + Dominance Score"
   ]
  },
  {
   "cell_type": "code",
   "execution_count": 203,
   "id": "7bc81bbe",
   "metadata": {},
   "outputs": [
    {
     "name": "stdout",
     "output_type": "stream",
     "text": [
      "                Name  big_body_score     WAR_z     fbv_z      HOSS\n",
      "0       Tarik Skubal        1.365200  3.389206  1.748986  4.560917\n",
      "2        Paul Skenes        1.384650  2.722889  2.090439  4.378318\n",
      "7     Framber Valdez        2.206999  2.056572  0.236839  3.633394\n",
      "22    Drew Rasmussen        2.039369  1.140387  0.870965  3.290336\n",
      "1    Garrett Crochet        0.683298  2.889468  1.163639  3.204143\n",
      "4       Hunter Brown        0.656487  2.139862  1.407534  2.862803\n",
      "47     Hunter Greene        0.838836  0.390780  2.627007  2.715760\n",
      "6         Logan Webb        1.131888  2.139862 -0.543625  2.124674\n",
      "56     Adrian Houser        1.466344  0.140911  0.578291  1.913655\n",
      "119    Corbin Burnes        1.618060 -0.608695  0.822186  1.750842\n"
     ]
    }
   ],
   "source": [
    "pitchers_hoss = pd.merge(\n",
    "    pitching_stats, \n",
    "    pitchers, \n",
    "    on=\"Name\",\n",
    "    how=\"left\"\n",
    ")\n",
    "\n",
    "# pitchers[\"HOSS\"] = pitchers[\"size_score\"] + pitchers[\"dominance_score\"]\n",
    "pitchers_hoss[\"HOSS\"] = pitchers_hoss[\"big_body_score\"] + pitchers_hoss[\"dominance_score\"]\n",
    "\n",
    "pitchers_sorted = pitchers_hoss.sort_values(by='HOSS', ascending=False)\n",
    "pitchers_sorted\n",
    "print(pitchers_sorted[[\"Name\", \"big_body_score\", \"WAR_z\", \"fbv_z\", \"HOSS\"]].head(10))"
   ]
  },
  {
   "cell_type": "markdown",
   "id": "d8727666",
   "metadata": {},
   "source": [
    "### Official HOSS Players"
   ]
  },
  {
   "cell_type": "code",
   "execution_count": 204,
   "id": "711a39ac",
   "metadata": {},
   "outputs": [
    {
     "name": "stdout",
     "output_type": "stream",
     "text": [
      "           Name  big_body_score     WAR_z     fbv_z      HOSS\n",
      "0  Tarik Skubal         1.36520  3.389206  1.748986  4.560917\n",
      "2   Paul Skenes         1.38465  2.722889  2.090439  4.378318\n"
     ]
    }
   ],
   "source": [
    "pitchers_hoss = pitchers_hoss[pitchers_hoss[\"big_body_score\"] > 1]\n",
    "pitchers_hoss = pitchers_hoss[pitchers_hoss[\"WAR_z\"] > 1]\n",
    "pitchers_hoss = pitchers_hoss[pitchers_hoss[\"fbv_z\"] > 1]\n",
    "pitchers_sorted = pitchers_hoss.sort_values(by='HOSS', ascending=False)\n",
    "pitchers_sorted\n",
    "print(pitchers_sorted[[\"Name\", \"big_body_score\", \"WAR_z\", \"fbv_z\", \"HOSS\"]].head(10))"
   ]
  }
 ],
 "metadata": {
  "kernelspec": {
   "display_name": "env",
   "language": "python",
   "name": "python3"
  },
  "language_info": {
   "codemirror_mode": {
    "name": "ipython",
    "version": 3
   },
   "file_extension": ".py",
   "mimetype": "text/x-python",
   "name": "python",
   "nbconvert_exporter": "python",
   "pygments_lexer": "ipython3",
   "version": "3.11.3"
  }
 },
 "nbformat": 4,
 "nbformat_minor": 5
}
