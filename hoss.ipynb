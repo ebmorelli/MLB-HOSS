{
 "cells": [
  {
   "cell_type": "code",
   "execution_count": 7,
   "id": "73f138d8",
   "metadata": {},
   "outputs": [],
   "source": [
    "import pandas as pd\n",
    "import numpy as np\n",
    "import pybaseball"
   ]
  },
  {
   "cell_type": "markdown",
   "id": "67adcc86",
   "metadata": {},
   "source": [
    "### Read in BRef data & Calculate Height and Weight Percentiles"
   ]
  },
  {
   "cell_type": "code",
   "execution_count": 9,
   "id": "ab9daab1",
   "metadata": {},
   "outputs": [],
   "source": [
    "pitchers = pd.read_csv(\"pitchers_br.csv\")\n",
    "\n",
    "def height_to_inches(height_str):\n",
    "    feet, inches = height_str.split(\"'\")\n",
    "    inches = inches.replace('\"', '').strip()\n",
    "    return int(feet) * 12 + int(inches)\n",
    "\n",
    "pitchers['height_inches'] = pitchers['Ht'].apply(height_to_inches)\n",
    "\n",
    "pitchers['height_percentile'] = pitchers['Ht'].rank(pct=True).round(2)\n",
    "pitchers['weight_percentile'] = pitchers['Wt'].rank(pct=True).round(2)\n",
    "\n",
    "# pitchers_sorted = pitchers.sort_values(by='height_percentile', ascending=False)\n",
    "# print(pitchers_sorted)\n",
    "\n",
    "# pitchers_sorted = pitchers.sort_values(by='weight_percentile', ascending=False)\n",
    "# print(pitchers_sorted)\n"
   ]
  },
  {
   "cell_type": "markdown",
   "id": "d0728cc1",
   "metadata": {},
   "source": [
    "### Calculate Size Score"
   ]
  },
  {
   "cell_type": "code",
   "execution_count": 10,
   "id": "cc5f717e",
   "metadata": {},
   "outputs": [],
   "source": [
    "pitchers[\"size_score\"] = 10 * pitchers[\"height_percentile\"] + 90 * pitchers[\"weight_percentile\"]\n",
    "pitchers_sorted = pitchers.sort_values(by='size_score', ascending=False)\n",
    "# print(pitchers_sorted)"
   ]
  },
  {
   "cell_type": "markdown",
   "id": "0a6dd00a",
   "metadata": {},
   "source": [
    "### Big-Body Score as an alternative to Size Score\n",
    "\n",
    "Capture a score somewhere between BMI and Corpulence Index (using Imperial units - percentiles will be calculated anyway)\n",
    "Big-Body Score = $\\frac{Weight (lbs)}{(Height (in)^{2.5})}$"
   ]
  },
  {
   "cell_type": "code",
   "execution_count": 11,
   "id": "bb991960",
   "metadata": {},
   "outputs": [],
   "source": [
    "pitchers[\"big_body_raw\"] = pitchers[\"Wt\"] / (pitchers[\"height_inches\"])**2.5\n",
    "pitchers['big_body_score'] = pitchers['big_body_raw'].rank(pct=True).round(4) * 100\n",
    "pitchers_sorted = pitchers.sort_values(by='big_body_score', ascending=False)\n",
    "# print(pitchers_sorted)"
   ]
  },
  {
   "cell_type": "markdown",
   "id": "5d28f061",
   "metadata": {},
   "source": [
    "### Calculate Dominance Score from stats\n",
    "This year's stats from FanGraphs"
   ]
  },
  {
   "cell_type": "code",
   "execution_count": 12,
   "id": "81e13f7b",
   "metadata": {},
   "outputs": [],
   "source": [
    "pitching_stats = pd.read_csv(\"pitchers_fg.csv\")"
   ]
  },
  {
   "cell_type": "code",
   "execution_count": 13,
   "id": "34dc0266",
   "metadata": {},
   "outputs": [],
   "source": [
    "# set a 10-game qualification filter\n",
    "pitching_stats = pitching_stats[pitching_stats[\"G\"] > 10]\n",
    "\n",
    "# determine starters/relievers\n",
    "pitching_stats[\"Pos\"] = np.where(\n",
    "    pitching_stats[\"GS\"] > 0.5 * pitching_stats[\"G\"], \n",
    "    \"SP\", \n",
    "    \"RP\"\n",
    ")"
   ]
  },
  {
   "cell_type": "code",
   "execution_count": null,
   "id": "f1d2a1df",
   "metadata": {},
   "outputs": [],
   "source": [
    "pitching_stats.columns\n",
    "\n"
   ]
  },
  {
   "cell_type": "code",
   "execution_count": 14,
   "id": "2b854243",
   "metadata": {},
   "outputs": [
    {
     "name": "stdout",
     "output_type": "stream",
     "text": [
      "     Unnamed: 0              Name  WAR   G  GS   SO    K/9   FIP     K%  \\\n",
      "185         180      Mason Miller  1.2  44   0   73  14.71  2.71  0.420   \n",
      "5            72      Zack Wheeler  4.0  24  24  195  11.73  2.98  0.333   \n",
      "24          281       Dylan Cease  2.8  24  24  169  11.76  3.44  0.307   \n",
      "166         296       Griffin Jax  1.6  57   0   79  13.76  2.24  0.354   \n",
      "168          58  Jeremiah Estrada  1.5  58   0   81  13.02  2.79  0.358   \n",
      "\n",
      "     FB% 2  ...  vFC (sc)  Zone%  SwStr%  Stuff+  Pitching+  Pos  \\\n",
      "185  0.546  ...       NaN  0.395   0.212     124        118   RP   \n",
      "5    0.581  ...      91.8  0.428   0.145     117        124   SP   \n",
      "24   0.441  ...       NaN  0.395   0.159     115        117   SP   \n",
      "166  0.267  ...      93.5  0.412   0.187     109        132   RP   \n",
      "168  0.607  ...       NaN  0.439   0.175     122        135   RP   \n",
      "\n",
      "     SO_percentile SO9_percentile  dominance_score_raw  dominance_score  \n",
      "185           0.95           1.00                 89.5           100.00  \n",
      "5             1.00           0.99                 89.2            99.73  \n",
      "24            0.98           0.99                 89.0            99.32  \n",
      "166           0.98           0.99                 89.0            99.32  \n",
      "168           1.00           0.98                 88.4            98.64  \n",
      "\n",
      "[5 rows x 22 columns]\n"
     ]
    }
   ],
   "source": [
    "pitching_stats_sp = pd.DataFrame(pitching_stats[pitching_stats[\"Pos\"] == \"SP\"])\n",
    "pitching_stats_sp['SO_percentile'] = pitching_stats_sp['SO'].rank(pct=True).round(2)\n",
    "pitching_stats_sp['SO9_percentile'] = pitching_stats_sp['K/9'].rank(pct=True).round(2)\n",
    "pitching_stats_rp = pd.DataFrame(pitching_stats[pitching_stats[\"Pos\"] == \"RP\"])\n",
    "pitching_stats_rp['SO_percentile'] = pitching_stats_rp['SO'].rank(pct=True).round(2)\n",
    "pitching_stats_rp['SO9_percentile'] = pitching_stats_rp['K/9'].rank(pct=True).round(2)\n",
    "\n",
    "pitching_stats = pd.concat([pitching_stats_sp, pitching_stats_rp], ignore_index=True)\n",
    "\n",
    "pitching_stats[\"dominance_score_raw\"] = 10 * pitching_stats[\"SO_percentile\"] + 80 * pitching_stats[\"SO9_percentile\"]\n",
    "pitching_stats[\"dominance_score\"] = pitching_stats['dominance_score_raw'].rank(pct=True).round(4) * 100\n",
    "\n",
    "print(pitching_stats.sort_values(by='dominance_score', ascending=False).head(5))"
   ]
  },
  {
   "cell_type": "markdown",
   "id": "9246217e",
   "metadata": {},
   "source": [
    "### Calculate HOSS = Size Score + Dominance Score"
   ]
  },
  {
   "cell_type": "code",
   "execution_count": 15,
   "id": "7bc81bbe",
   "metadata": {},
   "outputs": [
    {
     "name": "stdout",
     "output_type": "stream",
     "text": [
      "                   Name  big_body_score  dominance_score    HOSS\n",
      "165        David Bednar           99.46            95.38  194.84\n",
      "164         Bryan Abreu           93.87            98.64  192.51\n",
      "207       Fernando Cruz           93.33            97.01  190.34\n",
      "0          Tarik Skubal           89.96            97.83  187.79\n",
      "306         Kirby Yates           92.45            89.95  182.40\n",
      "110        Grant Holmes           96.09            83.56  179.65\n",
      "248         Edwin Uceta           84.57            94.84  179.41\n",
      "263  Garrett Cleavinger           90.63            87.77  178.40\n",
      "2           Paul Skenes           87.67            90.35  178.02\n",
      "6            Logan Webb           89.15            87.23  176.38\n"
     ]
    }
   ],
   "source": [
    "pitchers = pd.merge(\n",
    "    pitching_stats, \n",
    "    pitchers, \n",
    "    on=\"Name\",\n",
    "    how=\"left\"\n",
    ")\n",
    "\n",
    "# pitchers[\"HOSS\"] = pitchers[\"size_score\"] + pitchers[\"dominance_score\"]\n",
    "pitchers[\"HOSS\"] = pitchers[\"big_body_score\"] + pitchers[\"dominance_score\"]\n",
    "\n",
    "pitchers_sorted = pitchers.sort_values(by='HOSS', ascending=False)\n",
    "print(pitchers_sorted[[\"Name\", \"big_body_score\", \"dominance_score\", \"HOSS\"]].head(10))"
   ]
  }
 ],
 "metadata": {
  "kernelspec": {
   "display_name": "env",
   "language": "python",
   "name": "python3"
  },
  "language_info": {
   "codemirror_mode": {
    "name": "ipython",
    "version": 3
   },
   "file_extension": ".py",
   "mimetype": "text/x-python",
   "name": "python",
   "nbconvert_exporter": "python",
   "pygments_lexer": "ipython3",
   "version": "3.11.3"
  }
 },
 "nbformat": 4,
 "nbformat_minor": 5
}
