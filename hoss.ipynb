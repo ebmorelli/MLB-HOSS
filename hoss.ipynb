{
 "cells": [
  {
   "cell_type": "code",
   "execution_count": null,
   "id": "73f138d8",
   "metadata": {},
   "outputs": [],
   "source": [
    "import pandas as pd\n",
    "import time\n",
    "import requests"
   ]
  },
  {
   "cell_type": "markdown",
   "id": "67adcc86",
   "metadata": {},
   "source": [
    "### Pull all pitchers' height and weight from Baseball Reference\n",
    "Note: need to use vpn to avoid HTTP 429 error"
   ]
  },
  {
   "cell_type": "code",
   "execution_count": null,
   "id": "7d20619d",
   "metadata": {},
   "outputs": [],
   "source": [
    "teams = [\n",
    "    \"ARI\", \"ATL\", \"BAL\", \"BOS\", \"CHC\", \"CHW\", \"CIN\", \"CLE\",\n",
    "    \"COL\", \"DET\", \"HOU\", \"KCR\", \"LAA\", \"LAD\", \"MIA\", \"MIL\",\n",
    "    \"MIN\", \"NYM\", \"NYY\", \"OAK\", \"PHI\", \"PIT\", \"SDP\", \"SEA\",\n",
    "    \"SFG\", \"STL\", \"TBR\", \"TEX\", \"TOR\", \"WSN\"\n",
    "]\n",
    "year = 2025\n",
    "\n",
    "pitchers = None\n",
    "\n",
    "for team in teams:\n",
    "    url = f\"https://www.baseball-reference.com/teams/{team}/{year}-roster.shtml\"\n",
    "    tables = pd.read_html(url)\n",
    "\n",
    "    # First table on roster page\n",
    "    roster = tables[0]\n",
    "\n",
    "    team_pitchers = roster[roster['Unnamed: 4'] == 'Pitcher'][['Name', 'Ht', 'Wt']]\n",
    "    # Keep only pitchers\n",
    "    pitchers = team_pitchers if pitchers is None else pd.concat([pitchers, team_pitchers], ignore_index=True)\n",
    "    time.sleep(1)\n",
    "\n",
    "# Keep Name, Height, Weight\n",
    "print(pitchers)\n",
    "pitchers.to_csv(\"pitchers.csv\")"
   ]
  },
  {
   "cell_type": "code",
   "execution_count": null,
   "id": "ab9daab1",
   "metadata": {},
   "outputs": [],
   "source": [
    "pitchers = pd.read_csv(\"pitchers.csv\")\n",
    "\n",
    "def height_to_inches(height_str):\n",
    "    feet, inches = height_str.split(\"'\")\n",
    "    inches = inches.replace('\"', '').strip()\n",
    "    return int(feet) * 12 + int(inches)\n",
    "\n",
    "pitchers['height_inches'] = pitchers['Ht'].apply(height_to_inches)\n",
    "pitchers['height_zscore'] = (pitchers['height_inches'] - pitchers['height_inches'].mean()) / pitchers['height_inches'].std()\n",
    "pitchers['weight_zscore'] = (pitchers['Wt'] - pitchers['Wt'].mean()) / pitchers['Wt'].std()\n",
    "\n",
    "# pitchers_sorted = pitchers.sort_values(by='height_zscore', ascending=False)\n",
    "\n",
    "# print(pitchers_sorted)\n",
    "\n",
    "pitchers_sorted = pitchers.sort_values(by='weight_zscore', ascending=False)\n",
    "\n",
    "print(pitchers_sorted)\n"
   ]
  }
 ],
 "metadata": {
  "kernelspec": {
   "display_name": "Python 3",
   "language": "python",
   "name": "python3"
  },
  "language_info": {
   "codemirror_mode": {
    "name": "ipython",
    "version": 3
   },
   "file_extension": ".py",
   "mimetype": "text/x-python",
   "name": "python",
   "nbconvert_exporter": "python",
   "pygments_lexer": "ipython3",
   "version": "3.11.3"
  }
 },
 "nbformat": 4,
 "nbformat_minor": 5
}
