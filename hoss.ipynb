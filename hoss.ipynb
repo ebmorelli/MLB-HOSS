{
 "cells": [
  {
   "cell_type": "code",
   "execution_count": 69,
   "id": "73f138d8",
   "metadata": {},
   "outputs": [],
   "source": [
    "import pandas as pd\n",
    "import numpy as np\n",
    "import pybaseball"
   ]
  },
  {
   "cell_type": "markdown",
   "id": "67adcc86",
   "metadata": {},
   "source": [
    "### Read in BRef data & Calculate Height and Weight Percentiles"
   ]
  },
  {
   "cell_type": "code",
   "execution_count": 70,
   "id": "ab9daab1",
   "metadata": {},
   "outputs": [
    {
     "name": "stdout",
     "output_type": "stream",
     "text": [
      "     Unnamed: 0                Name      Ht   Wt  height_inches  \\\n",
      "360         360        Paul Gervase  6' 10\"  230             82   \n",
      "416         416         Bailey Ober   6' 9\"  260             81   \n",
      "340         340       Tyler Glasnow   6' 8\"  225             80   \n",
      "372         372          Eury Pérez   6' 8\"  220             80   \n",
      "648         648           Joe Boyle   6' 8\"  250             80   \n",
      "..          ...                 ...     ...  ...            ...   \n",
      "343         343  Yoshinobu Yamamoto  5' 10\"  176             70   \n",
      "677         677      Danny Coulombe  5' 10\"  190             70   \n",
      "171         171            Sam Moll   5' 9\"  190             69   \n",
      "63           63         Rico Garcia   5' 9\"  201             69   \n",
      "555         555         Yuki Matsui   5' 8\"  165             68   \n",
      "\n",
      "     height_percentile  weight_percentile  height_zscore  weight_zscore  \n",
      "360               0.26               0.81       3.355894       0.819287  \n",
      "416               1.00               0.98       2.890285       2.177342  \n",
      "340               0.99               0.74       2.424677       0.592944  \n",
      "372               0.99               0.65       2.424677       0.366602  \n",
      "648               0.99               0.96       2.424677       1.724657  \n",
      "..                 ...                ...            ...            ...  \n",
      "343               0.01               0.06      -2.231406      -1.625213  \n",
      "677               0.01               0.16      -2.231406      -0.991454  \n",
      "171               0.05               0.16      -2.697014      -0.991454  \n",
      "63                0.05               0.31      -2.697014      -0.493500  \n",
      "555               0.05               0.02      -3.162622      -2.123166  \n",
      "\n",
      "[742 rows x 9 columns]\n"
     ]
    }
   ],
   "source": [
    "pitchers = pd.read_csv(\"pitchers_br.csv\")\n",
    "\n",
    "def height_to_inches(height_str):\n",
    "    feet, inches = height_str.split(\"'\")\n",
    "    inches = inches.replace('\"', '').strip()\n",
    "    return int(feet) * 12 + int(inches)\n",
    "\n",
    "pitchers['height_inches'] = pitchers['Ht'].apply(height_to_inches)\n",
    "# pitchers[\"Wt\"].apply(int)\n",
    "\n",
    "pitchers['height_percentile'] = pitchers['Ht'].rank(pct=True).round(2)\n",
    "pitchers['weight_percentile'] = pitchers['Wt'].rank(pct=True).round(2)\n",
    "\n",
    "pitchers[\"height_zscore\"] = (pitchers[\"height_inches\"] - pitchers[\"height_inches\"].mean()) / pitchers[\"height_inches\"].std()\n",
    "pitchers[\"weight_zscore\"] = (pitchers[\"Wt\"] - pitchers[\"Wt\"].mean()) / pitchers[\"Wt\"].std()\n",
    "\n",
    "\n",
    "pitchers_sorted = pitchers.sort_values(by='height_zscore', ascending=False)\n",
    "print(pitchers_sorted)\n"
   ]
  },
  {
   "cell_type": "markdown",
   "id": "d0728cc1",
   "metadata": {},
   "source": [
    "### Calculate Size Score"
   ]
  },
  {
   "cell_type": "code",
   "execution_count": 71,
   "id": "cc5f717e",
   "metadata": {},
   "outputs": [],
   "source": [
    "pitchers[\"size_score\"] = 10 * pitchers[\"height_percentile\"] + 90 * pitchers[\"weight_percentile\"]\n",
    "# pitchers_sorted = pitchers.sort_values(by='size_score', ascending=False)\n",
    "# print(pitchers_sorted)"
   ]
  },
  {
   "cell_type": "code",
   "execution_count": 72,
   "id": "cdaf1d35",
   "metadata": {},
   "outputs": [],
   "source": [
    "# Alternative Calculation of Size score: z-scores\n",
    "pitchers[\"size_score\"] = 10 * pitchers[\"height_zscore\"] + 90 * pitchers[\"weight_zscore\"]\n",
    "# pitchers_sorted = pitchers.sort_values(by='size_score', ascending=False)\n",
    "# print(pitchers_sorted)"
   ]
  },
  {
   "cell_type": "markdown",
   "id": "0a6dd00a",
   "metadata": {},
   "source": [
    "### Big-Body Score as an alternative to Size Score\n",
    "\n",
    "Capture a score somewhere between BMI and Corpulence Index (using Imperial units - percentiles will be calculated anyway)\n",
    "Big-Body Score = $\\frac{Weight (lbs)}{(Height (in)^{2.5})}$"
   ]
  },
  {
   "cell_type": "code",
   "execution_count": 92,
   "id": "bb991960",
   "metadata": {},
   "outputs": [
    {
     "name": "stdout",
     "output_type": "stream",
     "text": [
      "                 Name  big_body_score\n",
      "164    Tony Santillan        3.517482\n",
      "348  Brusdar Graterol        3.445045\n",
      "43        Joe Jiménez        3.124514\n",
      "146     Dan Altavilla        2.756605\n",
      "467      David Bednar        2.656721\n",
      "..                ...             ...\n",
      "527      Jean Cabrera       -2.594183\n",
      "3        Juan Morillo       -2.598771\n",
      "483     Michael Arias       -2.622646\n",
      "252    Keider Montero       -2.861545\n",
      "453  Huascar Brazobán       -2.868251\n",
      "\n",
      "[742 rows x 2 columns]\n"
     ]
    }
   ],
   "source": [
    "pitchers[\"big_body_raw\"] = pitchers[\"Wt\"] / (pitchers[\"height_inches\"])**2.5\n",
    "# pitchers['big_body_score'] = pitchers['big_body_raw'].rank(pct=True).round(4) * 100\n",
    "pitchers[\"big_body_score\"] = (pitchers[\"big_body_raw\"] - pitchers[\"big_body_raw\"].mean()) / pitchers[\"big_body_raw\"].std() # + 0.5 * pitchers[\"height_zscore\"]\n",
    "pitchers_sorted = pitchers.sort_values(by='big_body_score', ascending=False)\n",
    "print(pitchers_sorted[[\"Name\", \"big_body_score\"]])"
   ]
  },
  {
   "cell_type": "markdown",
   "id": "5d28f061",
   "metadata": {},
   "source": [
    "### Calculate Dominance Score from stats\n",
    "This year's stats from FanGraphs"
   ]
  },
  {
   "cell_type": "code",
   "execution_count": 74,
   "id": "81e13f7b",
   "metadata": {},
   "outputs": [],
   "source": [
    "pitching_stats = pd.read_csv(\"pitchers_fg.csv\")"
   ]
  },
  {
   "cell_type": "code",
   "execution_count": 75,
   "id": "34dc0266",
   "metadata": {},
   "outputs": [],
   "source": [
    "# set a 10-game qualification filter\n",
    "pitching_stats = pitching_stats[pitching_stats[\"G\"] > 10]\n",
    "\n",
    "# determine starters/relievers\n",
    "pitching_stats[\"Pos\"] = np.where(\n",
    "    pitching_stats[\"GS\"] > 0.5 * pitching_stats[\"G\"], \n",
    "    \"SP\", \n",
    "    \"RP\"\n",
    ")"
   ]
  },
  {
   "cell_type": "code",
   "execution_count": 76,
   "id": "f1d2a1df",
   "metadata": {},
   "outputs": [
    {
     "data": {
      "text/plain": [
       "Index(['Unnamed: 0', 'Name', 'WAR', 'G', 'GS', 'SO', 'K/9', 'FIP', 'K%',\n",
       "       'FB% 2', 'vFA (sc)', 'vSI (sc)', 'vFC (sc)', 'Zone%', 'SwStr%',\n",
       "       'Stuff+', 'Pitching+', 'Pos'],\n",
       "      dtype='object')"
      ]
     },
     "execution_count": 76,
     "metadata": {},
     "output_type": "execute_result"
    }
   ],
   "source": [
    "pitching_stats.columns\n",
    "\n"
   ]
  },
  {
   "cell_type": "code",
   "execution_count": 94,
   "id": "2b854243",
   "metadata": {},
   "outputs": [
    {
     "name": "stdout",
     "output_type": "stream",
     "text": [
      "     Unnamed: 0             Name  WAR   G  GS  SO    K/9   FIP     K%  FB% 2  \\\n",
      "162           0  Aroldis Chapman  1.8  51   0  66  12.73  1.95  0.379  0.749   \n",
      "161         127    Robert Suarez  1.9  53   0  53   9.29  2.49  0.262  0.761   \n",
      "183          27    Trevor Megill  1.2  45   0  51  10.93  2.68  0.304  0.609   \n",
      "159          18   Adrian Morejon  2.0  58   0  55   9.00  1.95  0.258  0.646   \n",
      "185         180     Mason Miller  1.2  44   0  73  14.71  2.71  0.420  0.546   \n",
      "\n",
      "     ...  Pitching+  Pos      SO_z     SO9_z  fb_velo     fbv_z  \\\n",
      "162  ...        156   RP  1.351607  1.887128     99.7  2.172039   \n",
      "161  ...        159   RP  0.408779  0.163502     98.5  1.668166   \n",
      "183  ...        148   RP  0.263728  0.985231     99.1  1.920103   \n",
      "159  ...        141   RP  0.553829  0.018196     97.6  1.290262   \n",
      "185  ...        118   RP  1.859284  2.879216    101.2  2.801880   \n",
      "\n",
      "     dominance_score_raw dominance_score  Stuff+_z  Pitching+_z  \n",
      "162             5.865015        3.470290  1.796183     3.692976  \n",
      "161             5.568678        3.294949  1.951839     3.900512  \n",
      "183             5.059649        2.993760  3.508404     3.139546  \n",
      "159             3.945557        2.334560  2.496637     2.655296  \n",
      "185             3.866066        2.287526  1.640526     1.064186  \n",
      "\n",
      "[5 rows x 26 columns]\n"
     ]
    }
   ],
   "source": [
    "# pitching_stats_sp = pd.DataFrame(pitching_stats[pitching_stats[\"Pos\"] == \"SP\"])\n",
    "# pitching_stats_sp['SO_percentile'] = pitching_stats_sp['SO'].rank(pct=True).round(2)\n",
    "# pitching_stats_sp['SO9_percentile'] = pitching_stats_sp['K/9'].rank(pct=True).round(2)\n",
    "# pitching_stats_rp = pd.DataFrame(pitching_stats[pitching_stats[\"Pos\"] == \"RP\"])\n",
    "# pitching_stats_rp['SO_percentile'] = pitching_stats_rp['SO'].rank(pct=True).round(2)\n",
    "# pitching_stats_rp['SO9_percentile'] = pitching_stats_rp['K/9'].rank(pct=True).round(2)\n",
    "\n",
    "import pandas as pd\n",
    "\n",
    "# SP pitchers\n",
    "pitching_stats_sp = pd.DataFrame(pitching_stats[pitching_stats[\"Pos\"] == \"SP\"])\n",
    "pitching_stats_sp['SO_z'] = (pitching_stats_sp['SO'] - pitching_stats_sp['SO'].mean()) / pitching_stats_sp['SO'].std()\n",
    "pitching_stats_sp['SO9_z'] = (pitching_stats_sp['K/9'] - pitching_stats_sp['K/9'].mean()) / pitching_stats_sp['K/9'].std()\n",
    "\n",
    "# RP pitchers\n",
    "pitching_stats_rp = pd.DataFrame(pitching_stats[pitching_stats[\"Pos\"] == \"RP\"])\n",
    "pitching_stats_rp['SO_z'] = (pitching_stats_rp['SO'] - pitching_stats_rp['SO'].mean()) / pitching_stats_rp['SO'].std()\n",
    "pitching_stats_rp['SO9_z'] = (pitching_stats_rp['K/9'] - pitching_stats_rp['K/9'].mean()) / pitching_stats_rp['K/9'].std()\n",
    "\n",
    "\n",
    "pitching_stats = pd.concat([pitching_stats_sp, pitching_stats_rp], ignore_index=True)\n",
    "\n",
    "pitching_stats[\"fb_velo\"] = pitching_stats[[\"vFA (sc)\", \"vSI (sc)\", \"vFC (sc)\",]].max(axis=1, skipna=True)\n",
    "pitching_stats['fbv_z'] = (pitching_stats['fb_velo'] - pitching_stats['fb_velo'].mean()) / pitching_stats['fb_velo'].std()\n",
    "\n",
    "pitching_stats[\"Stuff+_z\"] = (pitching_stats[\"Stuff+\"] - pitching_stats[\"Stuff+\"].mean()) / pitching_stats[\"Stuff+\"].std()\n",
    "pitching_stats[\"Pitching+_z\"] = (pitching_stats[\"Pitching+\"] - pitching_stats[\"Pitching+\"].mean()) / pitching_stats[\"Pitching+\"].std()\n",
    "\n",
    "\n",
    "\n",
    "# pitching_stats[\"dominance_score_raw\"] = 10 * pitching_stats[\"SO_percentile\"] + 80 * pitching_stats[\"SO9_percentile\"] + 50 * pitching_stats[\"fbv_percentile\"] + pitching_stats[\"Stuff+\"]\n",
    "# pitching_stats[\"dominance_score\"] = pitching_stats['dominance_score_raw'].rank(pct=True).round(4) * 100\n",
    "# pitching_stats[\"dominance_score_raw\"] = 10 * pitching_stats[\"SO9_z\"] + 20 * pitching_stats[\"fbv_z\"] + 30 * (pitching_stats[\"Stuff+\"] / 100)\n",
    "pitching_stats[\"dominance_score_raw\"] = pitching_stats[\"Pitching+_z\"] + pitching_stats[\"fbv_z\"]\n",
    "pitching_stats[\"dominance_score\"] = (pitching_stats['dominance_score_raw'] - pitching_stats['dominance_score_raw'].mean()) / pitching_stats['dominance_score_raw'].std()\n",
    "\n",
    "\n",
    "print(pitching_stats.sort_values(by='dominance_score', ascending=False).head(5))"
   ]
  },
  {
   "cell_type": "markdown",
   "id": "9246217e",
   "metadata": {},
   "source": [
    "### Calculate HOSS = Size Score + Dominance Score"
   ]
  },
  {
   "cell_type": "code",
   "execution_count": 95,
   "id": "7bc81bbe",
   "metadata": {},
   "outputs": [
    {
     "name": "stdout",
     "output_type": "stream",
     "text": [
      "                Name  big_body_score  dominance_score      HOSS\n",
      "163  Aroldis Chapman        0.685451         3.470290  4.155741\n",
      "189  Graham Ashcraft        2.115739         1.939895  4.055634\n",
      "165     David Bednar        2.656721         1.023291  3.680013\n",
      "244   Tony Santillan        3.517482         0.153524  3.671006\n",
      "262      Luis Garcia        2.551611         1.030622  3.582233\n",
      "162    Robert Suarez        0.185439         3.294949  3.480388\n",
      "22    Drew Rasmussen        2.131172         1.330384  3.461556\n",
      "256     Ryan Helsley        1.455373         1.881251  3.336624\n",
      "284     Tanner Scott        2.301708         0.906398  3.208106\n",
      "0       Tarik Skubal        1.307036         1.859457  3.166493\n"
     ]
    }
   ],
   "source": [
    "pitchers_hoss = pd.merge(\n",
    "    pitching_stats, \n",
    "    pitchers, \n",
    "    on=\"Name\",\n",
    "    how=\"left\"\n",
    ")\n",
    "\n",
    "# pitchers[\"HOSS\"] = pitchers[\"size_score\"] + pitchers[\"dominance_score\"]\n",
    "pitchers_hoss[\"HOSS\"] = pitchers_hoss[\"big_body_score\"] + pitchers_hoss[\"dominance_score\"]\n",
    "\n",
    "pitchers_sorted = pitchers_hoss.sort_values(by='HOSS', ascending=False)\n",
    "print(pitchers_sorted[[\"Name\", \"big_body_score\", \"dominance_score\", \"HOSS\"]].head(10))"
   ]
  }
 ],
 "metadata": {
  "kernelspec": {
   "display_name": "env",
   "language": "python",
   "name": "python3"
  },
  "language_info": {
   "codemirror_mode": {
    "name": "ipython",
    "version": 3
   },
   "file_extension": ".py",
   "mimetype": "text/x-python",
   "name": "python",
   "nbconvert_exporter": "python",
   "pygments_lexer": "ipython3",
   "version": "3.11.3"
  }
 },
 "nbformat": 4,
 "nbformat_minor": 5
}
