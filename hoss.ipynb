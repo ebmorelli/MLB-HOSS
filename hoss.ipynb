{
 "cells": [
  {
   "cell_type": "code",
   "execution_count": null,
   "id": "73f138d8",
   "metadata": {},
   "outputs": [],
   "source": [
    "import pandas as pd\n",
    "import time\n",
    "import requests"
   ]
  },
  {
   "cell_type": "markdown",
   "id": "67adcc86",
   "metadata": {},
   "source": [
    "### Read in Data & Calculate Height and Weight Percentiles"
   ]
  },
  {
   "cell_type": "code",
   "execution_count": 9,
   "id": "ab9daab1",
   "metadata": {},
   "outputs": [
    {
     "name": "stdout",
     "output_type": "stream",
     "text": [
      "     Unnamed: 0               Name      Ht   Wt  height_inches  \\\n",
      "419         419        Bailey Ober   6' 9\"  260             81   \n",
      "130         130        Luke Little   6' 8\"  220             80   \n",
      "70           70     Félix Bautista   6' 8\"  285             80   \n",
      "641         641     Chris Roycroft   6' 8\"  230             80   \n",
      "77           77        Tyler Wells   6' 8\"  260             80   \n",
      "..          ...                ...     ...  ...            ...   \n",
      "112         112      Shota Imanaga  5' 10\"  175             70   \n",
      "681         681     Danny Coulombe  5' 10\"  190             70   \n",
      "124         124         Eli Morgan  5' 10\"  190             70   \n",
      "716         716     Lazaro Estrada  5' 10\"  180             70   \n",
      "35           35  Daysbel Hernández  5' 10\"  220             70   \n",
      "\n",
      "     height_percentile  weight_percentile  \n",
      "419               1.00               0.98  \n",
      "130               0.99               0.65  \n",
      "70                0.99               1.00  \n",
      "641               0.99               0.81  \n",
      "77                0.99               0.98  \n",
      "..                 ...                ...  \n",
      "112               0.01               0.05  \n",
      "681               0.01               0.15  \n",
      "124               0.01               0.15  \n",
      "716               0.01               0.08  \n",
      "35                0.01               0.65  \n",
      "\n",
      "[746 rows x 7 columns]\n"
     ]
    }
   ],
   "source": [
    "pitchers = pd.read_csv(\"pitchers.csv\")\n",
    "\n",
    "def height_to_inches(height_str):\n",
    "    feet, inches = height_str.split(\"'\")\n",
    "    inches = inches.replace('\"', '').strip()\n",
    "    return int(feet) * 12 + int(inches)\n",
    "\n",
    "pitchers['height_inches'] = pitchers['Ht'].apply(height_to_inches)\n",
    "\n",
    "pitchers['height_percentile'] = pitchers['Ht'].rank(pct=True).round(2)\n",
    "pitchers['weight_percentile'] = pitchers['Wt'].rank(pct=True).round(2)\n",
    "\n",
    "pitchers_sorted = pitchers.sort_values(by='height_percentile', ascending=False)\n",
    "print(pitchers_sorted)\n",
    "\n",
    "# pitchers_sorted = pitchers.sort_values(by='weight_percentile', ascending=False)\n",
    "# print(pitchers_sorted)\n"
   ]
  }
 ],
 "metadata": {
  "kernelspec": {
   "display_name": "env",
   "language": "python",
   "name": "python3"
  },
  "language_info": {
   "codemirror_mode": {
    "name": "ipython",
    "version": 3
   },
   "file_extension": ".py",
   "mimetype": "text/x-python",
   "name": "python",
   "nbconvert_exporter": "python",
   "pygments_lexer": "ipython3",
   "version": "3.11.3"
  }
 },
 "nbformat": 4,
 "nbformat_minor": 5
}
